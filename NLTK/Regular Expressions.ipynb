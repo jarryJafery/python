{
 "cells": [
  {
   "cell_type": "code",
   "execution_count": 1,
   "metadata": {
    "collapsed": true
   },
   "outputs": [],
   "source": [
    "#https://pythonprogramming.net/regular-expressions-regex-tutorial-python-3/\n",
    "import re"
   ]
  },
  {
   "cell_type": "markdown",
   "metadata": {},
   "source": [
    "This notebook is only to understand the regular expressions and there uses.<br>\n",
    "As below we had write down the identifiers, modifiers, white space characters and the role of breckets. <br>\n",
    "We will try to use all of them to understand there workings."
   ]
  },
  {
   "cell_type": "code",
   "execution_count": 2,
   "metadata": {
    "collapsed": true
   },
   "outputs": [],
   "source": [
    "#Identifiers:\n",
    "#    \\d = any number\n",
    "#    \\D = anything but a number\n",
    "#    \\s = space\n",
    "#    \\S = anything but a space\n",
    "#    \\w = any letter\n",
    "#    \\W = anything but a letter\n",
    "#    . = any character, except for a new line\n",
    "#    \\b = space around whole words\n",
    "#    \\. = period. must use backslash, because . normally means any character.\n",
    "\n",
    "#Modifiers:\n",
    "#    {1,3} = for digits, u expect 1-3 counts of digits, or \"places\"\n",
    "#    + = match 1 or more\n",
    "#    ? = match 0 or 1 repetitions.\n",
    "#    * = match 0 or MORE repetitions\n",
    "#    $ = matches at the end of string\n",
    "#    ^ = matches start of a string\n",
    "#    | = matches either/or. Example x|y = will match either x or y\n",
    "#    [] = range, or \"variance\"\n",
    "#    {x} = expect to see this amount of the preceding code.\n",
    "#    {x,y} = expect to see this x-y amounts of the precedng code\n",
    "\n",
    "#White Space Charts:\n",
    "\n",
    "#    \\n = new line\n",
    "#    \\s = space\n",
    "#    \\t = tab\n",
    "#    \\e = escape\n",
    "#    \\f = form feed\n",
    "#    \\r = carriage return\n",
    "\n",
    "#Characters to REMEMBER TO ESCAPE IF USED!\n",
    "\n",
    "#    . + * ? [ ] $ ^ ( ) { } | \\\n",
    "\n",
    "#Brackets:\n",
    "\n",
    "#    [] = quant[ia]tative = will find either quantitative, or quantatative.\n",
    "#    [a-z] = return any lowercase letter a-z\n",
    "#    [1-5a-qA-Z] = return all numbers 1-5, lowercase letters a-q and uppercase A-Z"
   ]
  },
  {
   "cell_type": "code",
   "execution_count": 3,
   "metadata": {
    "collapsed": true
   },
   "outputs": [],
   "source": [
    "text1 = '''Jarry is 27 years old now and Noor is just 25.\n",
    "Mansoor and Hafiz are 29 years old but Qaiser is 132 years old.'''\n",
    "# we are making an intution here that all the names are starts from capital letter and digits are the ages."
   ]
  },
  {
   "cell_type": "code",
   "execution_count": 4,
   "metadata": {},
   "outputs": [
    {
     "name": "stdout",
     "output_type": "stream",
     "text": [
      "['Jarry', 'Noor', 'Mansoor', 'Hafiz', 'Qaiser']\n"
     ]
    }
   ],
   "source": [
    "names=re.findall(r'[A-Z][a-z]*',text1)\n",
    "print(names)"
   ]
  },
  {
   "cell_type": "code",
   "execution_count": 5,
   "metadata": {},
   "outputs": [
    {
     "name": "stdout",
     "output_type": "stream",
     "text": [
      "['Ja', 'No', 'Ma', 'Ha', 'Qa']\n"
     ]
    }
   ],
   "source": [
    "names=re.findall(r'[A-Z][a-z]',text1)\n",
    "print(names)"
   ]
  },
  {
   "cell_type": "code",
   "execution_count": 6,
   "metadata": {},
   "outputs": [
    {
     "name": "stdout",
     "output_type": "stream",
     "text": [
      "['Jarry', 'Noor', 'Mansoor', 'Hafiz', 'Qaiser']\n"
     ]
    }
   ],
   "source": [
    "names=re.findall(r'[A-Z]\\w*',text1)\n",
    "print(names)"
   ]
  },
  {
   "cell_type": "code",
   "execution_count": 7,
   "metadata": {},
   "outputs": [
    {
     "name": "stdout",
     "output_type": "stream",
     "text": [
      "['Jarry', 'Noor', 'Mansoor', 'Hafiz', 'Qaiser']\n"
     ]
    }
   ],
   "source": [
    "names=re.findall(r'[A-Z]\\w*',text1)\n",
    "print(names)"
   ]
  },
  {
   "cell_type": "code",
   "execution_count": 8,
   "metadata": {},
   "outputs": [
    {
     "name": "stdout",
     "output_type": "stream",
     "text": [
      "['27', '25', '29', '13']\n"
     ]
    }
   ],
   "source": [
    "age=re.findall(r'\\d\\d',text1)\n",
    "print(age)"
   ]
  },
  {
   "cell_type": "code",
   "execution_count": 9,
   "metadata": {},
   "outputs": [
    {
     "name": "stdout",
     "output_type": "stream",
     "text": [
      "['132']\n"
     ]
    }
   ],
   "source": [
    "age=re.findall(r'\\d\\d\\d',text1)\n",
    "print(age)"
   ]
  },
  {
   "cell_type": "code",
   "execution_count": 10,
   "metadata": {},
   "outputs": [
    {
     "name": "stdout",
     "output_type": "stream",
     "text": [
      "['27', '25', '29', '132']\n"
     ]
    }
   ],
   "source": [
    "age=re.findall(r'\\d{1,3}',text1)\n",
    "print(age)"
   ]
  },
  {
   "cell_type": "code",
   "execution_count": 11,
   "metadata": {},
   "outputs": [
    {
     "name": "stdout",
     "output_type": "stream",
     "text": [
      "['27', '25', '29', '132']\n"
     ]
    }
   ],
   "source": [
    "age=re.findall(r'\\d{1,4}',text1)\n",
    "print(age)"
   ]
  },
  {
   "cell_type": "code",
   "execution_count": 12,
   "metadata": {},
   "outputs": [
    {
     "name": "stdout",
     "output_type": "stream",
     "text": [
      "['Jarry']\n"
     ]
    }
   ],
   "source": [
    "jarry=re.findall(r'Jarry',text1) # exact match\n",
    "print(jarry)"
   ]
  },
  {
   "cell_type": "code",
   "execution_count": 13,
   "metadata": {
    "collapsed": true
   },
   "outputs": [],
   "source": [
    "text2='''Jarry is 27 years old now and he was born in 25-12-1989.Noor is just 25 and he was born in 23 july 1991.\n",
    "Mansoor and Hafiz are 29 years old they were born at 05-jan-1988 but Qaiser is 132 years old and he was born on 10 june 1980.'''"
   ]
  },
  {
   "cell_type": "code",
   "execution_count": 14,
   "metadata": {},
   "outputs": [
    {
     "data": {
      "text/plain": [
       "['25-12-19', '23 july 1991', '05-jan-1988', '10 june 1980']"
      ]
     },
     "execution_count": 14,
     "metadata": {},
     "output_type": "execute_result"
    }
   ],
   "source": [
    "# Our target would be to get the names ages and dates of births\n",
    "dob=re.findall(r'\\d{1,2}-\\d{1,2}-\\d{1,2}|\\d{1,2}\\s\\w*\\s\\d{1,4}|\\d{1,2}-\\w+-\\d{1,4}',text2)\n",
    "dob"
   ]
  },
  {
   "cell_type": "code",
   "execution_count": 15,
   "metadata": {},
   "outputs": [
    {
     "data": {
      "text/plain": [
       "['23 july 1991', '10 june 1980']"
      ]
     },
     "execution_count": 15,
     "metadata": {},
     "output_type": "execute_result"
    }
   ],
   "source": [
    "dob=re.findall(r'\\d{1,2}\\s\\w*\\s\\d{1,4}',text2)\n",
    "dob"
   ]
  },
  {
   "cell_type": "code",
   "execution_count": null,
   "metadata": {
    "collapsed": true
   },
   "outputs": [],
   "source": []
  }
 ],
 "metadata": {
  "kernelspec": {
   "display_name": "Python 3",
   "language": "python",
   "name": "python3"
  },
  "language_info": {
   "codemirror_mode": {
    "name": "ipython",
    "version": 3
   },
   "file_extension": ".py",
   "mimetype": "text/x-python",
   "name": "python",
   "nbconvert_exporter": "python",
   "pygments_lexer": "ipython3",
   "version": "3.5.4"
  }
 },
 "nbformat": 4,
 "nbformat_minor": 2
}
