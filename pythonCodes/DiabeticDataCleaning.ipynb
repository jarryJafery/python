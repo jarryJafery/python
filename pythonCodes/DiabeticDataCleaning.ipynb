{
 "cells": [
  {
   "cell_type": "markdown",
   "metadata": {
    "collapsed": true
   },
   "source": [
    "# Data Cleaning using Pandas"
   ]
  },
  {
   "cell_type": "markdown",
   "metadata": {},
   "source": [
    "The problem that you will encounter in data cleaning are\n",
    "<br>\n",
    "Missing values,\n",
    "<br>\n",
    "Column names,\n",
    "<br>\n",
    "Outliers,\n",
    "<br>\n",
    "Unexpected observations in columns,\n",
    "<br>\n",
    "Duplicate Rows,\n",
    "<br>\n",
    "Untidy Data.\n",
    "<br>\n",
    "We will cover all of them as our data have all these problems.\n",
    "The data i am using for the demo is UCI Data set repository and can be downloaded from 'https://archive.ics.uci.edu/ml/machine-learning-databases/diabetes/' the data is related to diabetic patients.Complete description of data can be found with data files."
   ]
  },
  {
   "cell_type": "code",
   "execution_count": 1,
   "metadata": {
    "collapsed": true
   },
   "outputs": [],
   "source": [
    "import pandas as pd\n",
    "import matplotlib.pyplot as plt\n",
    "import numpy as np\n",
    "import glob\n",
    "from datetime import datetime\n",
    "import re"
   ]
  },
  {
   "cell_type": "markdown",
   "metadata": {},
   "source": [
    "There are 70 data files so i am using glob function from glob library to read all the file paths in list. "
   ]
  },
  {
   "cell_type": "code",
   "execution_count": 2,
   "metadata": {
    "collapsed": false
   },
   "outputs": [
    {
     "data": {
      "text/plain": [
       "70"
      ]
     },
     "execution_count": 2,
     "metadata": {},
     "output_type": "execute_result"
    }
   ],
   "source": [
    "file_list =glob.glob('Path/To/Your/Directory/Diabetes-Data/data-*')\n",
    "len(file_list)"
   ]
  },
  {
   "cell_type": "markdown",
   "metadata": {},
   "source": [
    "i use list comprehension to read all the files in a single list of 70 data frames. "
   ]
  },
  {
   "cell_type": "code",
   "execution_count": 3,
   "metadata": {
    "collapsed": false
   },
   "outputs": [
    {
     "data": {
      "text/plain": [
       "70"
      ]
     },
     "execution_count": 3,
     "metadata": {},
     "output_type": "execute_result"
    }
   ],
   "source": [
    "list_data = [pd.read_csv(x,sep='\\t',names=['date','time','code','value']) for x in file_list]\n",
    "len(list_data)"
   ]
  },
  {
   "cell_type": "markdown",
   "metadata": {},
   "source": [
    "Concatinated all the dataframes in a single dataframe"
   ]
  },
  {
   "cell_type": "code",
   "execution_count": 4,
   "metadata": {
    "collapsed": false
   },
   "outputs": [
    {
     "data": {
      "text/plain": [
       "(29330, 4)"
      ]
     },
     "execution_count": 4,
     "metadata": {},
     "output_type": "execute_result"
    }
   ],
   "source": [
    "deb_df = pd.concat(list_data,ignore_index=True)\n",
    "deb_df.shape"
   ]
  },
  {
   "cell_type": "code",
   "execution_count": 5,
   "metadata": {
    "collapsed": false
   },
   "outputs": [
    {
     "name": "stdout",
     "output_type": "stream",
     "text": [
      "<class 'pandas.core.frame.DataFrame'>\n",
      "RangeIndex: 29330 entries, 0 to 29329\n",
      "Data columns (total 4 columns):\n",
      "date     29297 non-null object\n",
      "time     29330 non-null object\n",
      "code     29330 non-null int64\n",
      "value    29297 non-null object\n",
      "dtypes: int64(1), object(3)\n",
      "memory usage: 916.6+ KB\n"
     ]
    }
   ],
   "source": [
    "deb_df.info()"
   ]
  },
  {
   "cell_type": "markdown",
   "metadata": {},
   "source": [
    "# Removing Missing Vlaues"
   ]
  },
  {
   "cell_type": "markdown",
   "metadata": {},
   "source": [
    "For getting all rows having NaN values in dataframe."
   ]
  },
  {
   "cell_type": "code",
   "execution_count": 6,
   "metadata": {
    "collapsed": false
   },
   "outputs": [
    {
     "name": "stdout",
     "output_type": "stream",
     "text": [
      "             date  time  code value\n",
      "9960   10-12-1989  7:00     0   NaN\n",
      "9961          NaN   138    33    3A\n",
      "9962   10-12-1989  7:00     0   NaN\n",
      "9963          NaN   006    33    21\n",
      "9964   10-12-1989  7:00     0   NaN\n",
      "9965          NaN   016    33    22\n",
      "11239  05-25-1990  7:00     0   NaN\n",
      "11240         NaN   201    33    3A\n",
      "11241  05-25-1990  7:00     0   NaN\n",
      "11242         NaN   004    33    21\n",
      "11243  05-25-1990  7:00     0   NaN\n",
      "11244         NaN   018    33    22\n",
      "11465  07-02-1990  7:00     0   NaN\n",
      "11466         NaN   202    33    3A\n",
      "11467  07-02-1990  7:00     0   NaN\n",
      "11468         NaN   006    33    21\n",
      "11469  07-02-1990  7:00     0   NaN\n",
      "11470         NaN   018    33    22\n",
      "11563  07-14-1990  7:00     0   NaN\n",
      "11564         NaN   195    33    3A\n",
      "11565  07-14-1990  7:00     0   NaN\n",
      "11566         NaN   006    33    21\n",
      "11567  07-14-1990  7:00     0   NaN\n",
      "11568         NaN   018    33    22\n",
      "11590  07-17-1990  7:00     0   NaN\n",
      "11591         NaN   168    33    3A\n",
      "11592  07-17-1990  7:00     0   NaN\n",
      "11593         NaN   006    33    21\n",
      "11594  07-17-1990  7:00     0   NaN\n",
      "11595         NaN   018    33    22\n",
      "...           ...   ...   ...   ...\n",
      "11699  08-03-1990  7:00     0   NaN\n",
      "11700         NaN   162    33    3A\n",
      "11701  08-03-1990  7:00     0   NaN\n",
      "11702         NaN   006    33    21\n",
      "11703  08-03-1990  7:00     0   NaN\n",
      "11704         NaN   018    33    22\n",
      "11870  08-27-1990  7:30     0   NaN\n",
      "11871         NaN   212    33    3A\n",
      "11872  08-27-1990  7:30     0   NaN\n",
      "11873         NaN   006    33    21\n",
      "11874  08-27-1990  7:30     0   NaN\n",
      "11875         NaN   018    33    22\n",
      "11961  09-11-1990  6:30     0   NaN\n",
      "11962         NaN   169    33    3A\n",
      "11963  09-11-1990  6:30     0   NaN\n",
      "11964         NaN   006    33    21\n",
      "11965  09-11-1990  6:30     0   NaN\n",
      "11966         NaN   018    33    22\n",
      "12059  11-08-1990  7:00     0   NaN\n",
      "12060         NaN   217    33    3A\n",
      "12061  11-08-1990  7:00     0   NaN\n",
      "12062         NaN   006    33    21\n",
      "12063  11-08-1990  7:00     0   NaN\n",
      "12064         NaN   020    33    22\n",
      "12174  11-29-1990  7:00     0   NaN\n",
      "12175         NaN   209    33    3A\n",
      "12176  11-29-1990  7:00     0   NaN\n",
      "12177         NaN   006    33    21\n",
      "12178  11-29-1990  7:00     0   NaN\n",
      "12179         NaN   020    33    22\n",
      "\n",
      "[66 rows x 4 columns]\n"
     ]
    }
   ],
   "source": [
    "nan_values = deb_df[deb_df.isnull().T.any().T]\n",
    "print nan_values"
   ]
  },
  {
   "cell_type": "code",
   "execution_count": 7,
   "metadata": {
    "collapsed": false
   },
   "outputs": [
    {
     "data": {
      "text/plain": [
       "66"
      ]
     },
     "execution_count": 7,
     "metadata": {},
     "output_type": "execute_result"
    }
   ],
   "source": [
    "len(nan_values)"
   ]
  },
  {
   "cell_type": "markdown",
   "metadata": {},
   "source": [
    "i am removing missing values from the data as most of them are not making any sense and they are very small in number with respect to the data."
   ]
  },
  {
   "cell_type": "code",
   "execution_count": 8,
   "metadata": {
    "collapsed": false
   },
   "outputs": [
    {
     "data": {
      "text/html": [
       "<div>\n",
       "<table border=\"1\" class=\"dataframe\">\n",
       "  <thead>\n",
       "    <tr style=\"text-align: right;\">\n",
       "      <th></th>\n",
       "      <th>date</th>\n",
       "      <th>time</th>\n",
       "      <th>code</th>\n",
       "      <th>value</th>\n",
       "    </tr>\n",
       "  </thead>\n",
       "  <tbody>\n",
       "  </tbody>\n",
       "</table>\n",
       "</div>"
      ],
      "text/plain": [
       "Empty DataFrame\n",
       "Columns: [date, time, code, value]\n",
       "Index: []"
      ]
     },
     "execution_count": 8,
     "metadata": {},
     "output_type": "execute_result"
    }
   ],
   "source": [
    "deb_df1 =deb_df.dropna()\n",
    "deb_df1[deb_df1.isnull().T.any().T]"
   ]
  },
  {
   "cell_type": "code",
   "execution_count": 9,
   "metadata": {
    "collapsed": false
   },
   "outputs": [
    {
     "data": {
      "text/plain": [
       "(29264, 4)"
      ]
     },
     "execution_count": 9,
     "metadata": {},
     "output_type": "execute_result"
    }
   ],
   "source": [
    "deb_df1.shape"
   ]
  },
  {
   "cell_type": "markdown",
   "metadata": {},
   "source": [
    "# Removing Duplicates"
   ]
  },
  {
   "cell_type": "markdown",
   "metadata": {},
   "source": [
    "i am using two methods for finding and removing duplicates but there are few duplicates in data as shape of data is describing."
   ]
  },
  {
   "cell_type": "code",
   "execution_count": 12,
   "metadata": {
    "collapsed": false
   },
   "outputs": [
    {
     "data": {
      "text/plain": [
       "(27438, 4)"
      ]
     },
     "execution_count": 12,
     "metadata": {},
     "output_type": "execute_result"
    }
   ],
   "source": [
    "deb_df1.drop_duplicates(subset=deb_df1.columns,keep='last',inplace=True)\n",
    "deb_df1.shape"
   ]
  },
  {
   "cell_type": "markdown",
   "metadata": {},
   "source": [
    "# Testing and Removing unexpected Values"
   ]
  },
  {
   "cell_type": "markdown",
   "metadata": {},
   "source": [
    "Now i had tried to drill down the data for further cleaning of any unexpected value.  "
   ]
  },
  {
   "cell_type": "code",
   "execution_count": 13,
   "metadata": {
    "collapsed": false
   },
   "outputs": [
    {
     "data": {
      "text/html": [
       "<div>\n",
       "<table border=\"1\" class=\"dataframe\">\n",
       "  <thead>\n",
       "    <tr style=\"text-align: right;\">\n",
       "      <th></th>\n",
       "      <th>date</th>\n",
       "      <th>time</th>\n",
       "      <th>code</th>\n",
       "      <th>value</th>\n",
       "    </tr>\n",
       "  </thead>\n",
       "  <tbody>\n",
       "  </tbody>\n",
       "</table>\n",
       "</div>"
      ],
      "text/plain": [
       "Empty DataFrame\n",
       "Columns: [date, time, code, value]\n",
       "Index: []"
      ]
     },
     "execution_count": 13,
     "metadata": {},
     "output_type": "execute_result"
    }
   ],
   "source": [
    "deb_df1[deb_df1.date.str.contains(r'nan')]"
   ]
  },
  {
   "cell_type": "code",
   "execution_count": 14,
   "metadata": {
    "collapsed": false
   },
   "outputs": [
    {
     "data": {
      "text/html": [
       "<div>\n",
       "<table border=\"1\" class=\"dataframe\">\n",
       "  <thead>\n",
       "    <tr style=\"text-align: right;\">\n",
       "      <th></th>\n",
       "      <th>date</th>\n",
       "      <th>time</th>\n",
       "      <th>code</th>\n",
       "      <th>value</th>\n",
       "    </tr>\n",
       "  </thead>\n",
       "  <tbody>\n",
       "  </tbody>\n",
       "</table>\n",
       "</div>"
      ],
      "text/plain": [
       "Empty DataFrame\n",
       "Columns: [date, time, code, value]\n",
       "Index: []"
      ]
     },
     "execution_count": 14,
     "metadata": {},
     "output_type": "execute_result"
    }
   ],
   "source": [
    "deb_df1[deb_df1.date.apply(lambda x:int(x.rsplit('-')[0])>12) | deb_df1.date.apply(lambda x:int(x.rsplit('-')[1])>31)]"
   ]
  },
  {
   "cell_type": "markdown",
   "metadata": {},
   "source": [
    "We got unexpected values in time column as we were not expecting 56 or 188 hours in time."
   ]
  },
  {
   "cell_type": "code",
   "execution_count": 15,
   "metadata": {
    "collapsed": false
   },
   "outputs": [
    {
     "data": {
      "text/html": [
       "<div>\n",
       "<table border=\"1\" class=\"dataframe\">\n",
       "  <thead>\n",
       "    <tr style=\"text-align: right;\">\n",
       "      <th></th>\n",
       "      <th>date</th>\n",
       "      <th>time</th>\n",
       "      <th>code</th>\n",
       "      <th>value</th>\n",
       "    </tr>\n",
       "  </thead>\n",
       "  <tbody>\n",
       "    <tr>\n",
       "      <th>28070</th>\n",
       "      <td>04-09-1991</td>\n",
       "      <td>56:35</td>\n",
       "      <td>58</td>\n",
       "      <td>237</td>\n",
       "    </tr>\n",
       "    <tr>\n",
       "      <th>28071</th>\n",
       "      <td>04-09-1991</td>\n",
       "      <td>56:35</td>\n",
       "      <td>33</td>\n",
       "      <td>16</td>\n",
       "    </tr>\n",
       "    <tr>\n",
       "      <th>28072</th>\n",
       "      <td>04-09-1991</td>\n",
       "      <td>56:35</td>\n",
       "      <td>34</td>\n",
       "      <td>40</td>\n",
       "    </tr>\n",
       "    <tr>\n",
       "      <th>28171</th>\n",
       "      <td>04-21-1991</td>\n",
       "      <td>188:00</td>\n",
       "      <td>62</td>\n",
       "      <td>128</td>\n",
       "    </tr>\n",
       "    <tr>\n",
       "      <th>28172</th>\n",
       "      <td>04-21-1991</td>\n",
       "      <td>188:00</td>\n",
       "      <td>33</td>\n",
       "      <td>14</td>\n",
       "    </tr>\n",
       "  </tbody>\n",
       "</table>\n",
       "</div>"
      ],
      "text/plain": [
       "             date    time  code value\n",
       "28070  04-09-1991   56:35    58   237\n",
       "28071  04-09-1991   56:35    33    16\n",
       "28072  04-09-1991   56:35    34    40\n",
       "28171  04-21-1991  188:00    62   128\n",
       "28172  04-21-1991  188:00    33    14"
      ]
     },
     "execution_count": 15,
     "metadata": {},
     "output_type": "execute_result"
    }
   ],
   "source": [
    "deb_df1[deb_df1.time.apply(lambda x:int(x.rpartition(':')[0])>24)]"
   ]
  },
  {
   "cell_type": "markdown",
   "metadata": {},
   "source": [
    "i am making all of them 00:00."
   ]
  },
  {
   "cell_type": "code",
   "execution_count": 17,
   "metadata": {
    "collapsed": false
   },
   "outputs": [],
   "source": [
    "deb_df1.ix[deb_df1.time.apply(lambda x:int(x.rpartition(':')[0])>24),'time']='00:00'"
   ]
  },
  {
   "cell_type": "code",
   "execution_count": 18,
   "metadata": {
    "collapsed": false
   },
   "outputs": [
    {
     "data": {
      "text/html": [
       "<div>\n",
       "<table border=\"1\" class=\"dataframe\">\n",
       "  <thead>\n",
       "    <tr style=\"text-align: right;\">\n",
       "      <th></th>\n",
       "      <th>date</th>\n",
       "      <th>time</th>\n",
       "      <th>code</th>\n",
       "      <th>value</th>\n",
       "    </tr>\n",
       "  </thead>\n",
       "  <tbody>\n",
       "    <tr>\n",
       "      <th>22922</th>\n",
       "      <td>02-08-1989</td>\n",
       "      <td>00:00</td>\n",
       "      <td>57</td>\n",
       "      <td>45</td>\n",
       "    </tr>\n",
       "    <tr>\n",
       "      <th>25875</th>\n",
       "      <td>02-03-1990</td>\n",
       "      <td>00:00</td>\n",
       "      <td>57</td>\n",
       "      <td>284</td>\n",
       "    </tr>\n",
       "    <tr>\n",
       "      <th>25879</th>\n",
       "      <td>02-04-1990</td>\n",
       "      <td>00:00</td>\n",
       "      <td>57</td>\n",
       "      <td>155</td>\n",
       "    </tr>\n",
       "    <tr>\n",
       "      <th>25904</th>\n",
       "      <td>02-12-1990</td>\n",
       "      <td>00:00</td>\n",
       "      <td>57</td>\n",
       "      <td>124</td>\n",
       "    </tr>\n",
       "    <tr>\n",
       "      <th>26784</th>\n",
       "      <td>08-01-1989</td>\n",
       "      <td>00:00</td>\n",
       "      <td>48</td>\n",
       "      <td>204</td>\n",
       "    </tr>\n",
       "    <tr>\n",
       "      <th>28070</th>\n",
       "      <td>04-09-1991</td>\n",
       "      <td>00:00</td>\n",
       "      <td>58</td>\n",
       "      <td>237</td>\n",
       "    </tr>\n",
       "    <tr>\n",
       "      <th>28071</th>\n",
       "      <td>04-09-1991</td>\n",
       "      <td>00:00</td>\n",
       "      <td>33</td>\n",
       "      <td>16</td>\n",
       "    </tr>\n",
       "    <tr>\n",
       "      <th>28072</th>\n",
       "      <td>04-09-1991</td>\n",
       "      <td>00:00</td>\n",
       "      <td>34</td>\n",
       "      <td>40</td>\n",
       "    </tr>\n",
       "    <tr>\n",
       "      <th>28171</th>\n",
       "      <td>04-21-1991</td>\n",
       "      <td>00:00</td>\n",
       "      <td>62</td>\n",
       "      <td>128</td>\n",
       "    </tr>\n",
       "    <tr>\n",
       "      <th>28172</th>\n",
       "      <td>04-21-1991</td>\n",
       "      <td>00:00</td>\n",
       "      <td>33</td>\n",
       "      <td>14</td>\n",
       "    </tr>\n",
       "  </tbody>\n",
       "</table>\n",
       "</div>"
      ],
      "text/plain": [
       "             date   time  code value\n",
       "22922  02-08-1989  00:00    57    45\n",
       "25875  02-03-1990  00:00    57   284\n",
       "25879  02-04-1990  00:00    57   155\n",
       "25904  02-12-1990  00:00    57   124\n",
       "26784  08-01-1989  00:00    48   204\n",
       "28070  04-09-1991  00:00    58   237\n",
       "28071  04-09-1991  00:00    33    16\n",
       "28072  04-09-1991  00:00    34    40\n",
       "28171  04-21-1991  00:00    62   128\n",
       "28172  04-21-1991  00:00    33    14"
      ]
     },
     "execution_count": 18,
     "metadata": {},
     "output_type": "execute_result"
    }
   ],
   "source": [
    "deb_df1[deb_df1.time.apply(lambda x:x=='00:00')]"
   ]
  },
  {
   "cell_type": "markdown",
   "metadata": {},
   "source": [
    "we can perform above task by using function."
   ]
  },
  {
   "cell_type": "code",
   "execution_count": 19,
   "metadata": {
    "collapsed": true
   },
   "outputs": [],
   "source": [
    "def timeClean(df,col='time'):\n",
    "    #print df\n",
    "    #print df[col]\n",
    "    for key,val in df.iterrows():\n",
    "        if int(val[col].rpartition(':')[0])>24:\n",
    "            df.loc[key,col]='00:00'\n",
    "    return df\n",
    "deb_df2 = timeClean(df= deb_df1,col='time')"
   ]
  },
  {
   "cell_type": "markdown",
   "metadata": {},
   "source": [
    "to check any unexpected value in mins in time column."
   ]
  },
  {
   "cell_type": "code",
   "execution_count": 20,
   "metadata": {
    "collapsed": false
   },
   "outputs": [
    {
     "data": {
      "text/html": [
       "<div>\n",
       "<table border=\"1\" class=\"dataframe\">\n",
       "  <thead>\n",
       "    <tr style=\"text-align: right;\">\n",
       "      <th></th>\n",
       "      <th>date</th>\n",
       "      <th>time</th>\n",
       "      <th>code</th>\n",
       "      <th>value</th>\n",
       "    </tr>\n",
       "  </thead>\n",
       "  <tbody>\n",
       "  </tbody>\n",
       "</table>\n",
       "</div>"
      ],
      "text/plain": [
       "Empty DataFrame\n",
       "Columns: [date, time, code, value]\n",
       "Index: []"
      ]
     },
     "execution_count": 20,
     "metadata": {},
     "output_type": "execute_result"
    }
   ],
   "source": [
    "deb_df1[deb_df1.time.apply(lambda x:int(x.rpartition(':')[2])>60)]"
   ]
  },
  {
   "cell_type": "markdown",
   "metadata": {},
   "source": [
    "That's Most trickist one as it was due to data present in wrong date as 6 month does not have 31 days in it.But we get some unexpected values in date so we are changing it to 1st of 7th month."
   ]
  },
  {
   "cell_type": "code",
   "execution_count": 21,
   "metadata": {
    "collapsed": false
   },
   "outputs": [
    {
     "data": {
      "text/html": [
       "<div>\n",
       "<table border=\"1\" class=\"dataframe\">\n",
       "  <thead>\n",
       "    <tr style=\"text-align: right;\">\n",
       "      <th></th>\n",
       "      <th>date</th>\n",
       "      <th>time</th>\n",
       "      <th>code</th>\n",
       "      <th>value</th>\n",
       "    </tr>\n",
       "  </thead>\n",
       "  <tbody>\n",
       "    <tr>\n",
       "      <th>6505</th>\n",
       "      <td>06-31-1991</td>\n",
       "      <td>07:50</td>\n",
       "      <td>58</td>\n",
       "      <td>149</td>\n",
       "    </tr>\n",
       "    <tr>\n",
       "      <th>6506</th>\n",
       "      <td>06-31-1991</td>\n",
       "      <td>07:50</td>\n",
       "      <td>33</td>\n",
       "      <td>4</td>\n",
       "    </tr>\n",
       "    <tr>\n",
       "      <th>6507</th>\n",
       "      <td>06-31-1991</td>\n",
       "      <td>07:50</td>\n",
       "      <td>34</td>\n",
       "      <td>24</td>\n",
       "    </tr>\n",
       "    <tr>\n",
       "      <th>6508</th>\n",
       "      <td>06-31-1991</td>\n",
       "      <td>13:30</td>\n",
       "      <td>60</td>\n",
       "      <td>162</td>\n",
       "    </tr>\n",
       "    <tr>\n",
       "      <th>6509</th>\n",
       "      <td>06-31-1991</td>\n",
       "      <td>13:30</td>\n",
       "      <td>33</td>\n",
       "      <td>5</td>\n",
       "    </tr>\n",
       "    <tr>\n",
       "      <th>6510</th>\n",
       "      <td>06-31-1991</td>\n",
       "      <td>19:45</td>\n",
       "      <td>62</td>\n",
       "      <td>213</td>\n",
       "    </tr>\n",
       "    <tr>\n",
       "      <th>6511</th>\n",
       "      <td>06-31-1991</td>\n",
       "      <td>19:45</td>\n",
       "      <td>33</td>\n",
       "      <td>11</td>\n",
       "    </tr>\n",
       "  </tbody>\n",
       "</table>\n",
       "</div>"
      ],
      "text/plain": [
       "            date   time  code value\n",
       "6505  06-31-1991  07:50    58   149\n",
       "6506  06-31-1991  07:50    33     4\n",
       "6507  06-31-1991  07:50    34    24\n",
       "6508  06-31-1991  13:30    60   162\n",
       "6509  06-31-1991  13:30    33     5\n",
       "6510  06-31-1991  19:45    62   213\n",
       "6511  06-31-1991  19:45    33    11"
      ]
     },
     "execution_count": 21,
     "metadata": {},
     "output_type": "execute_result"
    }
   ],
   "source": [
    "#date cleaning\n",
    "pattern = '06-31-\\d*'\n",
    "deb_df1.ix[deb_df1.date.apply(lambda x: bool(re.match(pattern,string=x)))]"
   ]
  },
  {
   "cell_type": "code",
   "execution_count": 22,
   "metadata": {
    "collapsed": true
   },
   "outputs": [],
   "source": [
    "deb_df1.ix[deb_df1.date.apply(lambda x: bool(re.match(pattern,string=x))),'date']='07-01-1991'"
   ]
  },
  {
   "cell_type": "code",
   "execution_count": 23,
   "metadata": {
    "collapsed": false
   },
   "outputs": [
    {
     "data": {
      "text/html": [
       "<div>\n",
       "<table border=\"1\" class=\"dataframe\">\n",
       "  <thead>\n",
       "    <tr style=\"text-align: right;\">\n",
       "      <th></th>\n",
       "      <th>date</th>\n",
       "      <th>time</th>\n",
       "      <th>code</th>\n",
       "      <th>value</th>\n",
       "    </tr>\n",
       "  </thead>\n",
       "  <tbody>\n",
       "  </tbody>\n",
       "</table>\n",
       "</div>"
      ],
      "text/plain": [
       "Empty DataFrame\n",
       "Columns: [date, time, code, value]\n",
       "Index: []"
      ]
     },
     "execution_count": 23,
     "metadata": {},
     "output_type": "execute_result"
    }
   ],
   "source": [
    "deb_df1.ix[deb_df1.date.apply(lambda x: bool(re.match(pattern,string=x)))]"
   ]
  },
  {
   "cell_type": "markdown",
   "metadata": {},
   "source": [
    "Now we will change the types of data and create a new variable period so that we can convert that is date time format."
   ]
  },
  {
   "cell_type": "code",
   "execution_count": 25,
   "metadata": {
    "collapsed": false
   },
   "outputs": [
    {
     "name": "stdout",
     "output_type": "stream",
     "text": [
      "<class 'pandas.core.frame.DataFrame'>\n",
      "Int64Index: 27438 entries, 0 to 29329\n",
      "Data columns (total 5 columns):\n",
      "date      27438 non-null object\n",
      "time      27438 non-null object\n",
      "code      27438 non-null category\n",
      "value     27430 non-null float64\n",
      "period    27438 non-null object\n",
      "dtypes: category(1), float64(1), object(3)\n",
      "memory usage: 1.1+ MB\n"
     ]
    }
   ],
   "source": [
    "#before that we have to clean date and time date ='nan' and time >24H time[2]>24\n",
    "def dfClean(df):\n",
    "    df.loc[:,'value'] = pd.to_numeric(df['value'],errors = 'coerce')\n",
    "    df.loc[:,'code'] = df.code.astype('category')\n",
    "    df.loc[:,'period'] =df[\"date\"].map(str) + \" \"+df[\"time\"].map(str)\n",
    "    return df\n",
    "df = dfClean(deb_df1)\n",
    "df.info()"
   ]
  },
  {
   "cell_type": "markdown",
   "metadata": {
    "collapsed": false,
    "scrolled": true
   },
   "source": [
    "Converting the period data type to date time format."
   ]
  },
  {
   "cell_type": "code",
   "execution_count": 26,
   "metadata": {
    "collapsed": true
   },
   "outputs": [],
   "source": [
    "df.loc[:,'period']=df.period.apply(lambda x: datetime.strptime(x, '%m-%d-%Y %H:%M'))"
   ]
  },
  {
   "cell_type": "code",
   "execution_count": 27,
   "metadata": {
    "collapsed": false
   },
   "outputs": [
    {
     "name": "stdout",
     "output_type": "stream",
     "text": [
      "<class 'pandas.core.frame.DataFrame'>\n",
      "Int64Index: 27438 entries, 0 to 29329\n",
      "Data columns (total 5 columns):\n",
      "date      27438 non-null object\n",
      "time      27438 non-null object\n",
      "code      27438 non-null category\n",
      "value     27430 non-null float64\n",
      "period    27438 non-null datetime64[ns]\n",
      "dtypes: category(1), datetime64[ns](1), float64(1), object(2)\n",
      "memory usage: 1.1+ MB\n"
     ]
    }
   ],
   "source": [
    "df.info()"
   ]
  },
  {
   "cell_type": "code",
   "execution_count": 28,
   "metadata": {
    "collapsed": false
   },
   "outputs": [
    {
     "data": {
      "text/html": [
       "<div>\n",
       "<table border=\"1\" class=\"dataframe\">\n",
       "  <thead>\n",
       "    <tr style=\"text-align: right;\">\n",
       "      <th></th>\n",
       "      <th>date</th>\n",
       "      <th>time</th>\n",
       "      <th>code</th>\n",
       "      <th>value</th>\n",
       "      <th>period</th>\n",
       "    </tr>\n",
       "  </thead>\n",
       "  <tbody>\n",
       "    <tr>\n",
       "      <th>0</th>\n",
       "      <td>04-21-1991</td>\n",
       "      <td>9:09</td>\n",
       "      <td>58</td>\n",
       "      <td>100.0</td>\n",
       "      <td>1991-04-21 09:09:00</td>\n",
       "    </tr>\n",
       "    <tr>\n",
       "      <th>1</th>\n",
       "      <td>04-21-1991</td>\n",
       "      <td>9:09</td>\n",
       "      <td>33</td>\n",
       "      <td>9.0</td>\n",
       "      <td>1991-04-21 09:09:00</td>\n",
       "    </tr>\n",
       "    <tr>\n",
       "      <th>2</th>\n",
       "      <td>04-21-1991</td>\n",
       "      <td>9:09</td>\n",
       "      <td>34</td>\n",
       "      <td>13.0</td>\n",
       "      <td>1991-04-21 09:09:00</td>\n",
       "    </tr>\n",
       "    <tr>\n",
       "      <th>3</th>\n",
       "      <td>04-21-1991</td>\n",
       "      <td>17:08</td>\n",
       "      <td>62</td>\n",
       "      <td>119.0</td>\n",
       "      <td>1991-04-21 17:08:00</td>\n",
       "    </tr>\n",
       "    <tr>\n",
       "      <th>4</th>\n",
       "      <td>04-21-1991</td>\n",
       "      <td>17:08</td>\n",
       "      <td>33</td>\n",
       "      <td>7.0</td>\n",
       "      <td>1991-04-21 17:08:00</td>\n",
       "    </tr>\n",
       "  </tbody>\n",
       "</table>\n",
       "</div>"
      ],
      "text/plain": [
       "         date   time code  value              period\n",
       "0  04-21-1991   9:09   58  100.0 1991-04-21 09:09:00\n",
       "1  04-21-1991   9:09   33    9.0 1991-04-21 09:09:00\n",
       "2  04-21-1991   9:09   34   13.0 1991-04-21 09:09:00\n",
       "3  04-21-1991  17:08   62  119.0 1991-04-21 17:08:00\n",
       "4  04-21-1991  17:08   33    7.0 1991-04-21 17:08:00"
      ]
     },
     "execution_count": 28,
     "metadata": {},
     "output_type": "execute_result"
    }
   ],
   "source": [
    "df.head()"
   ]
  },
  {
   "cell_type": "markdown",
   "metadata": {},
   "source": [
    "As we have period column so we are removing date and time columns."
   ]
  },
  {
   "cell_type": "code",
   "execution_count": 29,
   "metadata": {
    "collapsed": true
   },
   "outputs": [],
   "source": [
    "del df['date']"
   ]
  },
  {
   "cell_type": "code",
   "execution_count": 30,
   "metadata": {
    "collapsed": true
   },
   "outputs": [],
   "source": [
    "del df['time']"
   ]
  },
  {
   "cell_type": "code",
   "execution_count": 31,
   "metadata": {
    "collapsed": false
   },
   "outputs": [
    {
     "data": {
      "text/html": [
       "<div>\n",
       "<table border=\"1\" class=\"dataframe\">\n",
       "  <thead>\n",
       "    <tr style=\"text-align: right;\">\n",
       "      <th></th>\n",
       "      <th>code</th>\n",
       "      <th>value</th>\n",
       "      <th>period</th>\n",
       "    </tr>\n",
       "  </thead>\n",
       "  <tbody>\n",
       "    <tr>\n",
       "      <th>0</th>\n",
       "      <td>58</td>\n",
       "      <td>100.0</td>\n",
       "      <td>1991-04-21 09:09:00</td>\n",
       "    </tr>\n",
       "    <tr>\n",
       "      <th>1</th>\n",
       "      <td>33</td>\n",
       "      <td>9.0</td>\n",
       "      <td>1991-04-21 09:09:00</td>\n",
       "    </tr>\n",
       "    <tr>\n",
       "      <th>2</th>\n",
       "      <td>34</td>\n",
       "      <td>13.0</td>\n",
       "      <td>1991-04-21 09:09:00</td>\n",
       "    </tr>\n",
       "    <tr>\n",
       "      <th>3</th>\n",
       "      <td>62</td>\n",
       "      <td>119.0</td>\n",
       "      <td>1991-04-21 17:08:00</td>\n",
       "    </tr>\n",
       "    <tr>\n",
       "      <th>4</th>\n",
       "      <td>33</td>\n",
       "      <td>7.0</td>\n",
       "      <td>1991-04-21 17:08:00</td>\n",
       "    </tr>\n",
       "  </tbody>\n",
       "</table>\n",
       "</div>"
      ],
      "text/plain": [
       "  code  value              period\n",
       "0   58  100.0 1991-04-21 09:09:00\n",
       "1   33    9.0 1991-04-21 09:09:00\n",
       "2   34   13.0 1991-04-21 09:09:00\n",
       "3   62  119.0 1991-04-21 17:08:00\n",
       "4   33    7.0 1991-04-21 17:08:00"
      ]
     },
     "execution_count": 31,
     "metadata": {},
     "output_type": "execute_result"
    }
   ],
   "source": [
    "df.head()"
   ]
  },
  {
   "cell_type": "markdown",
   "metadata": {},
   "source": [
    "# Column Names and categories"
   ]
  },
  {
   "cell_type": "markdown",
   "metadata": {},
   "source": [
    "Importing the text file having categories code."
   ]
  },
  {
   "cell_type": "code",
   "execution_count": 32,
   "metadata": {
    "collapsed": false
   },
   "outputs": [],
   "source": [
    " with open('path') as file:\n",
    "        codes = file.readlines()"
   ]
  },
  {
   "cell_type": "markdown",
   "metadata": {},
   "source": [
    "Filtering all the codes from text file and joining with the original dataframe."
   ]
  },
  {
   "cell_type": "code",
   "execution_count": 33,
   "metadata": {
    "collapsed": false
   },
   "outputs": [
    {
     "data": {
      "text/plain": [
       "['33 = Regular insulin dose\\n',\n",
       " '34 = NPH insulin dose\\n',\n",
       " '35 = UltraLente insulin dose\\n',\n",
       " '48 = Unspecified blood glucose measurement\\n',\n",
       " '57 = Unspecified blood glucose measurement\\n',\n",
       " '58 = Pre-breakfast blood glucose measurement\\n',\n",
       " '59 = Post-breakfast blood glucose measurement\\n',\n",
       " '60 = Pre-lunch blood glucose measurement\\n',\n",
       " '61 = Post-lunch blood glucose measurement\\n',\n",
       " '62 = Pre-supper blood glucose measurement\\n',\n",
       " '63 = Post-supper blood glucose measurement\\n',\n",
       " '64 = Pre-snack blood glucose measurement\\n',\n",
       " '65 = Hypoglycemic symptoms\\n',\n",
       " '66 = Typical meal ingestion\\n',\n",
       " '67 = More-than-usual meal ingestion\\n',\n",
       " '68 = Less-than-usual meal ingestion\\n',\n",
       " '69 = Typical exercise activity\\n',\n",
       " '70 = More-than-usual exercise activity\\n',\n",
       " '71 = Less-than-usual exercise activity\\n',\n",
       " '72 = Unspecified special event\\n']"
      ]
     },
     "execution_count": 33,
     "metadata": {},
     "output_type": "execute_result"
    }
   ],
   "source": [
    "codes_list= codes[20:40]\n",
    "codes_list"
   ]
  },
  {
   "cell_type": "code",
   "execution_count": 34,
   "metadata": {
    "collapsed": false
   },
   "outputs": [],
   "source": [
    "cat_code = []\n",
    "cat_list =[]\n",
    "for line in codes_list:\n",
    "    split = line.rsplit('=')\n",
    "    cat_code.append(split[0][:2])\n",
    "    cat_list.append(split[1][:-1])"
   ]
  },
  {
   "cell_type": "code",
   "execution_count": 35,
   "metadata": {
    "collapsed": false
   },
   "outputs": [],
   "source": [
    "category = pd.DataFrame({'category':cat_list,'code':cat_code})"
   ]
  },
  {
   "cell_type": "code",
   "execution_count": 36,
   "metadata": {
    "collapsed": false
   },
   "outputs": [
    {
     "name": "stdout",
     "output_type": "stream",
     "text": [
      "<class 'pandas.core.frame.DataFrame'>\n",
      "RangeIndex: 20 entries, 0 to 19\n",
      "Data columns (total 2 columns):\n",
      "category    20 non-null object\n",
      "code        20 non-null int64\n",
      "dtypes: int64(1), object(1)\n",
      "memory usage: 392.0+ bytes\n"
     ]
    }
   ],
   "source": [
    "category['code'] = pd.to_numeric(category['code'],errors = 'coerces')\n",
    "category.info()"
   ]
  },
  {
   "cell_type": "code",
   "execution_count": 37,
   "metadata": {
    "collapsed": false
   },
   "outputs": [],
   "source": [
    "dabatic = pd.merge(left =df,right = category,on='code')"
   ]
  },
  {
   "cell_type": "markdown",
   "metadata": {},
   "source": [
    "Removing code column as we have category column and rearranging the columns."
   ]
  },
  {
   "cell_type": "code",
   "execution_count": 38,
   "metadata": {
    "collapsed": false
   },
   "outputs": [
    {
     "data": {
      "text/html": [
       "<div>\n",
       "<table border=\"1\" class=\"dataframe\">\n",
       "  <thead>\n",
       "    <tr style=\"text-align: right;\">\n",
       "      <th></th>\n",
       "      <th>period</th>\n",
       "      <th>category</th>\n",
       "      <th>value</th>\n",
       "    </tr>\n",
       "  </thead>\n",
       "  <tbody>\n",
       "    <tr>\n",
       "      <th>0</th>\n",
       "      <td>1991-04-21 09:09:00</td>\n",
       "      <td>Pre-breakfast blood glucose measurement</td>\n",
       "      <td>100.0</td>\n",
       "    </tr>\n",
       "    <tr>\n",
       "      <th>1</th>\n",
       "      <td>1991-04-22 07:35:00</td>\n",
       "      <td>Pre-breakfast blood glucose measurement</td>\n",
       "      <td>216.0</td>\n",
       "    </tr>\n",
       "    <tr>\n",
       "      <th>2</th>\n",
       "      <td>1991-04-23 07:25:00</td>\n",
       "      <td>Pre-breakfast blood glucose measurement</td>\n",
       "      <td>257.0</td>\n",
       "    </tr>\n",
       "    <tr>\n",
       "      <th>3</th>\n",
       "      <td>1991-04-24 07:52:00</td>\n",
       "      <td>Pre-breakfast blood glucose measurement</td>\n",
       "      <td>239.0</td>\n",
       "    </tr>\n",
       "    <tr>\n",
       "      <th>4</th>\n",
       "      <td>1991-04-25 07:29:00</td>\n",
       "      <td>Pre-breakfast blood glucose measurement</td>\n",
       "      <td>67.0</td>\n",
       "    </tr>\n",
       "  </tbody>\n",
       "</table>\n",
       "</div>"
      ],
      "text/plain": [
       "               period                                  category  value\n",
       "0 1991-04-21 09:09:00   Pre-breakfast blood glucose measurement  100.0\n",
       "1 1991-04-22 07:35:00   Pre-breakfast blood glucose measurement  216.0\n",
       "2 1991-04-23 07:25:00   Pre-breakfast blood glucose measurement  257.0\n",
       "3 1991-04-24 07:52:00   Pre-breakfast blood glucose measurement  239.0\n",
       "4 1991-04-25 07:29:00   Pre-breakfast blood glucose measurement   67.0"
      ]
     },
     "execution_count": 38,
     "metadata": {},
     "output_type": "execute_result"
    }
   ],
   "source": [
    "cols = ['period','category', 'value']\n",
    "dabatic = dabatic[cols]\n",
    "dabatic.head()"
   ]
  },
  {
   "cell_type": "markdown",
   "metadata": {},
   "source": [
    "# Tidy Data from untidy"
   ]
  },
  {
   "cell_type": "markdown",
   "metadata": {},
   "source": [
    "Now data is alomost cleaned but its untidy so we have to convert it to tidy. "
   ]
  },
  {
   "cell_type": "code",
   "execution_count": 39,
   "metadata": {
    "collapsed": false
   },
   "outputs": [],
   "source": [
    "dabatic_clean = pd.pivot_table(dabatic,values='value',index=['period'],columns=['category'],aggfunc=np.mean)"
   ]
  },
  {
   "cell_type": "code",
   "execution_count": 40,
   "metadata": {
    "collapsed": false
   },
   "outputs": [
    {
     "data": {
      "text/html": [
       "<div>\n",
       "<table border=\"1\" class=\"dataframe\">\n",
       "  <thead>\n",
       "    <tr style=\"text-align: right;\">\n",
       "      <th>category</th>\n",
       "      <th>Hypoglycemic symptoms</th>\n",
       "      <th>Less-than-usual exercise activity</th>\n",
       "      <th>Less-than-usual meal ingestion</th>\n",
       "      <th>More-than-usual exercise activity</th>\n",
       "      <th>More-than-usual meal ingestion</th>\n",
       "      <th>NPH insulin dose</th>\n",
       "      <th>Post-breakfast blood glucose measurement</th>\n",
       "      <th>Post-lunch blood glucose measurement</th>\n",
       "      <th>Post-supper blood glucose measurement</th>\n",
       "      <th>Pre-breakfast blood glucose measurement</th>\n",
       "      <th>Pre-lunch blood glucose measurement</th>\n",
       "      <th>Pre-snack blood glucose measurement</th>\n",
       "      <th>Pre-supper blood glucose measurement</th>\n",
       "      <th>Regular insulin dose</th>\n",
       "      <th>Typical exercise activity</th>\n",
       "      <th>Typical meal ingestion</th>\n",
       "      <th>UltraLente insulin dose</th>\n",
       "      <th>Unspecified blood glucose measurement</th>\n",
       "      <th>Unspecified special event</th>\n",
       "    </tr>\n",
       "    <tr>\n",
       "      <th>period</th>\n",
       "      <th></th>\n",
       "      <th></th>\n",
       "      <th></th>\n",
       "      <th></th>\n",
       "      <th></th>\n",
       "      <th></th>\n",
       "      <th></th>\n",
       "      <th></th>\n",
       "      <th></th>\n",
       "      <th></th>\n",
       "      <th></th>\n",
       "      <th></th>\n",
       "      <th></th>\n",
       "      <th></th>\n",
       "      <th></th>\n",
       "      <th></th>\n",
       "      <th></th>\n",
       "      <th></th>\n",
       "      <th></th>\n",
       "    </tr>\n",
       "  </thead>\n",
       "  <tbody>\n",
       "    <tr>\n",
       "      <th>1988-03-27 08:00:00</th>\n",
       "      <td>NaN</td>\n",
       "      <td>NaN</td>\n",
       "      <td>NaN</td>\n",
       "      <td>NaN</td>\n",
       "      <td>NaN</td>\n",
       "      <td>20.0</td>\n",
       "      <td>NaN</td>\n",
       "      <td>NaN</td>\n",
       "      <td>NaN</td>\n",
       "      <td>134.0</td>\n",
       "      <td>NaN</td>\n",
       "      <td>NaN</td>\n",
       "      <td>NaN</td>\n",
       "      <td>NaN</td>\n",
       "      <td>NaN</td>\n",
       "      <td>NaN</td>\n",
       "      <td>NaN</td>\n",
       "      <td>NaN</td>\n",
       "      <td>NaN</td>\n",
       "    </tr>\n",
       "    <tr>\n",
       "      <th>1988-03-27 12:00:00</th>\n",
       "      <td>NaN</td>\n",
       "      <td>NaN</td>\n",
       "      <td>NaN</td>\n",
       "      <td>NaN</td>\n",
       "      <td>NaN</td>\n",
       "      <td>NaN</td>\n",
       "      <td>NaN</td>\n",
       "      <td>NaN</td>\n",
       "      <td>NaN</td>\n",
       "      <td>NaN</td>\n",
       "      <td>158.0</td>\n",
       "      <td>NaN</td>\n",
       "      <td>NaN</td>\n",
       "      <td>NaN</td>\n",
       "      <td>NaN</td>\n",
       "      <td>NaN</td>\n",
       "      <td>NaN</td>\n",
       "      <td>NaN</td>\n",
       "      <td>NaN</td>\n",
       "    </tr>\n",
       "    <tr>\n",
       "      <th>1988-03-27 18:00:00</th>\n",
       "      <td>NaN</td>\n",
       "      <td>NaN</td>\n",
       "      <td>NaN</td>\n",
       "      <td>NaN</td>\n",
       "      <td>NaN</td>\n",
       "      <td>NaN</td>\n",
       "      <td>NaN</td>\n",
       "      <td>NaN</td>\n",
       "      <td>NaN</td>\n",
       "      <td>NaN</td>\n",
       "      <td>NaN</td>\n",
       "      <td>NaN</td>\n",
       "      <td>258.0</td>\n",
       "      <td>NaN</td>\n",
       "      <td>NaN</td>\n",
       "      <td>NaN</td>\n",
       "      <td>NaN</td>\n",
       "      <td>NaN</td>\n",
       "      <td>NaN</td>\n",
       "    </tr>\n",
       "    <tr>\n",
       "      <th>1988-03-28 08:00:00</th>\n",
       "      <td>NaN</td>\n",
       "      <td>NaN</td>\n",
       "      <td>NaN</td>\n",
       "      <td>NaN</td>\n",
       "      <td>NaN</td>\n",
       "      <td>20.0</td>\n",
       "      <td>NaN</td>\n",
       "      <td>NaN</td>\n",
       "      <td>NaN</td>\n",
       "      <td>115.0</td>\n",
       "      <td>NaN</td>\n",
       "      <td>NaN</td>\n",
       "      <td>NaN</td>\n",
       "      <td>NaN</td>\n",
       "      <td>NaN</td>\n",
       "      <td>NaN</td>\n",
       "      <td>NaN</td>\n",
       "      <td>NaN</td>\n",
       "      <td>NaN</td>\n",
       "    </tr>\n",
       "    <tr>\n",
       "      <th>1988-03-28 12:00:00</th>\n",
       "      <td>NaN</td>\n",
       "      <td>NaN</td>\n",
       "      <td>NaN</td>\n",
       "      <td>NaN</td>\n",
       "      <td>NaN</td>\n",
       "      <td>NaN</td>\n",
       "      <td>NaN</td>\n",
       "      <td>NaN</td>\n",
       "      <td>NaN</td>\n",
       "      <td>NaN</td>\n",
       "      <td>162.0</td>\n",
       "      <td>NaN</td>\n",
       "      <td>NaN</td>\n",
       "      <td>NaN</td>\n",
       "      <td>NaN</td>\n",
       "      <td>NaN</td>\n",
       "      <td>NaN</td>\n",
       "      <td>NaN</td>\n",
       "      <td>NaN</td>\n",
       "    </tr>\n",
       "  </tbody>\n",
       "</table>\n",
       "</div>"
      ],
      "text/plain": [
       "category              Hypoglycemic symptoms  \\\n",
       "period                                        \n",
       "1988-03-27 08:00:00                     NaN   \n",
       "1988-03-27 12:00:00                     NaN   \n",
       "1988-03-27 18:00:00                     NaN   \n",
       "1988-03-28 08:00:00                     NaN   \n",
       "1988-03-28 12:00:00                     NaN   \n",
       "\n",
       "category              Less-than-usual exercise activity  \\\n",
       "period                                                    \n",
       "1988-03-27 08:00:00                                 NaN   \n",
       "1988-03-27 12:00:00                                 NaN   \n",
       "1988-03-27 18:00:00                                 NaN   \n",
       "1988-03-28 08:00:00                                 NaN   \n",
       "1988-03-28 12:00:00                                 NaN   \n",
       "\n",
       "category              Less-than-usual meal ingestion  \\\n",
       "period                                                 \n",
       "1988-03-27 08:00:00                              NaN   \n",
       "1988-03-27 12:00:00                              NaN   \n",
       "1988-03-27 18:00:00                              NaN   \n",
       "1988-03-28 08:00:00                              NaN   \n",
       "1988-03-28 12:00:00                              NaN   \n",
       "\n",
       "category              More-than-usual exercise activity  \\\n",
       "period                                                    \n",
       "1988-03-27 08:00:00                                 NaN   \n",
       "1988-03-27 12:00:00                                 NaN   \n",
       "1988-03-27 18:00:00                                 NaN   \n",
       "1988-03-28 08:00:00                                 NaN   \n",
       "1988-03-28 12:00:00                                 NaN   \n",
       "\n",
       "category              More-than-usual meal ingestion   NPH insulin dose  \\\n",
       "period                                                                    \n",
       "1988-03-27 08:00:00                              NaN               20.0   \n",
       "1988-03-27 12:00:00                              NaN                NaN   \n",
       "1988-03-27 18:00:00                              NaN                NaN   \n",
       "1988-03-28 08:00:00                              NaN               20.0   \n",
       "1988-03-28 12:00:00                              NaN                NaN   \n",
       "\n",
       "category              Post-breakfast blood glucose measurement  \\\n",
       "period                                                           \n",
       "1988-03-27 08:00:00                                        NaN   \n",
       "1988-03-27 12:00:00                                        NaN   \n",
       "1988-03-27 18:00:00                                        NaN   \n",
       "1988-03-28 08:00:00                                        NaN   \n",
       "1988-03-28 12:00:00                                        NaN   \n",
       "\n",
       "category              Post-lunch blood glucose measurement  \\\n",
       "period                                                       \n",
       "1988-03-27 08:00:00                                    NaN   \n",
       "1988-03-27 12:00:00                                    NaN   \n",
       "1988-03-27 18:00:00                                    NaN   \n",
       "1988-03-28 08:00:00                                    NaN   \n",
       "1988-03-28 12:00:00                                    NaN   \n",
       "\n",
       "category              Post-supper blood glucose measurement  \\\n",
       "period                                                        \n",
       "1988-03-27 08:00:00                                     NaN   \n",
       "1988-03-27 12:00:00                                     NaN   \n",
       "1988-03-27 18:00:00                                     NaN   \n",
       "1988-03-28 08:00:00                                     NaN   \n",
       "1988-03-28 12:00:00                                     NaN   \n",
       "\n",
       "category              Pre-breakfast blood glucose measurement  \\\n",
       "period                                                          \n",
       "1988-03-27 08:00:00                                     134.0   \n",
       "1988-03-27 12:00:00                                       NaN   \n",
       "1988-03-27 18:00:00                                       NaN   \n",
       "1988-03-28 08:00:00                                     115.0   \n",
       "1988-03-28 12:00:00                                       NaN   \n",
       "\n",
       "category              Pre-lunch blood glucose measurement  \\\n",
       "period                                                      \n",
       "1988-03-27 08:00:00                                   NaN   \n",
       "1988-03-27 12:00:00                                 158.0   \n",
       "1988-03-27 18:00:00                                   NaN   \n",
       "1988-03-28 08:00:00                                   NaN   \n",
       "1988-03-28 12:00:00                                 162.0   \n",
       "\n",
       "category              Pre-snack blood glucose measurement  \\\n",
       "period                                                      \n",
       "1988-03-27 08:00:00                                   NaN   \n",
       "1988-03-27 12:00:00                                   NaN   \n",
       "1988-03-27 18:00:00                                   NaN   \n",
       "1988-03-28 08:00:00                                   NaN   \n",
       "1988-03-28 12:00:00                                   NaN   \n",
       "\n",
       "category              Pre-supper blood glucose measurement  \\\n",
       "period                                                       \n",
       "1988-03-27 08:00:00                                    NaN   \n",
       "1988-03-27 12:00:00                                    NaN   \n",
       "1988-03-27 18:00:00                                  258.0   \n",
       "1988-03-28 08:00:00                                    NaN   \n",
       "1988-03-28 12:00:00                                    NaN   \n",
       "\n",
       "category              Regular insulin dose   Typical exercise activity  \\\n",
       "period                                                                   \n",
       "1988-03-27 08:00:00                    NaN                         NaN   \n",
       "1988-03-27 12:00:00                    NaN                         NaN   \n",
       "1988-03-27 18:00:00                    NaN                         NaN   \n",
       "1988-03-28 08:00:00                    NaN                         NaN   \n",
       "1988-03-28 12:00:00                    NaN                         NaN   \n",
       "\n",
       "category              Typical meal ingestion   UltraLente insulin dose  \\\n",
       "period                                                                   \n",
       "1988-03-27 08:00:00                      NaN                       NaN   \n",
       "1988-03-27 12:00:00                      NaN                       NaN   \n",
       "1988-03-27 18:00:00                      NaN                       NaN   \n",
       "1988-03-28 08:00:00                      NaN                       NaN   \n",
       "1988-03-28 12:00:00                      NaN                       NaN   \n",
       "\n",
       "category              Unspecified blood glucose measurement  \\\n",
       "period                                                        \n",
       "1988-03-27 08:00:00                                     NaN   \n",
       "1988-03-27 12:00:00                                     NaN   \n",
       "1988-03-27 18:00:00                                     NaN   \n",
       "1988-03-28 08:00:00                                     NaN   \n",
       "1988-03-28 12:00:00                                     NaN   \n",
       "\n",
       "category              Unspecified special event  \n",
       "period                                           \n",
       "1988-03-27 08:00:00                         NaN  \n",
       "1988-03-27 12:00:00                         NaN  \n",
       "1988-03-27 18:00:00                         NaN  \n",
       "1988-03-28 08:00:00                         NaN  \n",
       "1988-03-28 12:00:00                         NaN  "
      ]
     },
     "execution_count": 40,
     "metadata": {},
     "output_type": "execute_result"
    }
   ],
   "source": [
    "dabatic_clean.head()"
   ]
  },
  {
   "cell_type": "markdown",
   "metadata": {},
   "source": [
    "# Validating Results"
   ]
  },
  {
   "cell_type": "code",
   "execution_count": 41,
   "metadata": {
    "collapsed": false
   },
   "outputs": [
    {
     "data": {
      "text/html": [
       "<div>\n",
       "<table border=\"1\" class=\"dataframe\">\n",
       "  <thead>\n",
       "    <tr style=\"text-align: right;\">\n",
       "      <th></th>\n",
       "      <th>period</th>\n",
       "      <th>category</th>\n",
       "      <th>value</th>\n",
       "    </tr>\n",
       "  </thead>\n",
       "  <tbody>\n",
       "    <tr>\n",
       "      <th>3115</th>\n",
       "      <td>1988-03-27 08:00:00</td>\n",
       "      <td>Pre-breakfast blood glucose measurement</td>\n",
       "      <td>134.0</td>\n",
       "    </tr>\n",
       "    <tr>\n",
       "      <th>15523</th>\n",
       "      <td>1988-03-27 08:00:00</td>\n",
       "      <td>NPH insulin dose</td>\n",
       "      <td>20.0</td>\n",
       "    </tr>\n",
       "  </tbody>\n",
       "</table>\n",
       "</div>"
      ],
      "text/plain": [
       "                   period                                  category  value\n",
       "3115  1988-03-27 08:00:00   Pre-breakfast blood glucose measurement  134.0\n",
       "15523 1988-03-27 08:00:00                          NPH insulin dose   20.0"
      ]
     },
     "execution_count": 41,
     "metadata": {},
     "output_type": "execute_result"
    }
   ],
   "source": [
    "dabatic[dabatic.period.apply(lambda x:x==datetime.strptime('03-27-1988 08:00', '%m-%d-%Y %H:%M'))]"
   ]
  },
  {
   "cell_type": "markdown",
   "metadata": {},
   "source": [
    "As there are missing values in data set so i am resampling it on monthly basis."
   ]
  },
  {
   "cell_type": "code",
   "execution_count": 42,
   "metadata": {
    "collapsed": false
   },
   "outputs": [],
   "source": [
    "db_df = dabatic_clean.resample('M').mean().interpolate(method='linear').fillna(method= 'bfill')"
   ]
  },
  {
   "cell_type": "code",
   "execution_count": 43,
   "metadata": {
    "collapsed": false
   },
   "outputs": [
    {
     "data": {
      "text/html": [
       "<div>\n",
       "<table border=\"1\" class=\"dataframe\">\n",
       "  <thead>\n",
       "    <tr style=\"text-align: right;\">\n",
       "      <th>category</th>\n",
       "      <th>Hypoglycemic symptoms</th>\n",
       "      <th>Less-than-usual exercise activity</th>\n",
       "      <th>Less-than-usual meal ingestion</th>\n",
       "      <th>More-than-usual exercise activity</th>\n",
       "      <th>More-than-usual meal ingestion</th>\n",
       "      <th>NPH insulin dose</th>\n",
       "      <th>Post-breakfast blood glucose measurement</th>\n",
       "      <th>Post-lunch blood glucose measurement</th>\n",
       "      <th>Post-supper blood glucose measurement</th>\n",
       "      <th>Pre-breakfast blood glucose measurement</th>\n",
       "      <th>Pre-lunch blood glucose measurement</th>\n",
       "      <th>Pre-snack blood glucose measurement</th>\n",
       "      <th>Pre-supper blood glucose measurement</th>\n",
       "      <th>Regular insulin dose</th>\n",
       "      <th>Typical exercise activity</th>\n",
       "      <th>Typical meal ingestion</th>\n",
       "      <th>UltraLente insulin dose</th>\n",
       "      <th>Unspecified blood glucose measurement</th>\n",
       "      <th>Unspecified special event</th>\n",
       "    </tr>\n",
       "    <tr>\n",
       "      <th>period</th>\n",
       "      <th></th>\n",
       "      <th></th>\n",
       "      <th></th>\n",
       "      <th></th>\n",
       "      <th></th>\n",
       "      <th></th>\n",
       "      <th></th>\n",
       "      <th></th>\n",
       "      <th></th>\n",
       "      <th></th>\n",
       "      <th></th>\n",
       "      <th></th>\n",
       "      <th></th>\n",
       "      <th></th>\n",
       "      <th></th>\n",
       "      <th></th>\n",
       "      <th></th>\n",
       "      <th></th>\n",
       "      <th></th>\n",
       "    </tr>\n",
       "  </thead>\n",
       "  <tbody>\n",
       "    <tr>\n",
       "      <th>1988-03-31</th>\n",
       "      <td>0.0</td>\n",
       "      <td>0.0</td>\n",
       "      <td>0.0</td>\n",
       "      <td>0.0</td>\n",
       "      <td>0.0</td>\n",
       "      <td>20.000000</td>\n",
       "      <td>242.0</td>\n",
       "      <td>221.0</td>\n",
       "      <td>259.0</td>\n",
       "      <td>116.333333</td>\n",
       "      <td>156.000000</td>\n",
       "      <td>150.625</td>\n",
       "      <td>180.000000</td>\n",
       "      <td>4.541667</td>\n",
       "      <td>0.0</td>\n",
       "      <td>0.0</td>\n",
       "      <td>14.307692</td>\n",
       "      <td>137.400000</td>\n",
       "      <td>0.0</td>\n",
       "    </tr>\n",
       "    <tr>\n",
       "      <th>1988-04-30</th>\n",
       "      <td>0.0</td>\n",
       "      <td>0.0</td>\n",
       "      <td>0.0</td>\n",
       "      <td>0.0</td>\n",
       "      <td>0.0</td>\n",
       "      <td>19.533333</td>\n",
       "      <td>242.0</td>\n",
       "      <td>221.0</td>\n",
       "      <td>259.0</td>\n",
       "      <td>114.533333</td>\n",
       "      <td>119.285714</td>\n",
       "      <td>150.625</td>\n",
       "      <td>135.533333</td>\n",
       "      <td>4.541667</td>\n",
       "      <td>0.0</td>\n",
       "      <td>0.0</td>\n",
       "      <td>14.307692</td>\n",
       "      <td>137.400000</td>\n",
       "      <td>0.0</td>\n",
       "    </tr>\n",
       "    <tr>\n",
       "      <th>1988-05-31</th>\n",
       "      <td>0.0</td>\n",
       "      <td>0.0</td>\n",
       "      <td>0.0</td>\n",
       "      <td>0.0</td>\n",
       "      <td>0.0</td>\n",
       "      <td>20.000000</td>\n",
       "      <td>242.0</td>\n",
       "      <td>221.0</td>\n",
       "      <td>259.0</td>\n",
       "      <td>104.133333</td>\n",
       "      <td>118.307692</td>\n",
       "      <td>150.625</td>\n",
       "      <td>144.733333</td>\n",
       "      <td>4.541667</td>\n",
       "      <td>0.0</td>\n",
       "      <td>0.0</td>\n",
       "      <td>14.307692</td>\n",
       "      <td>137.400000</td>\n",
       "      <td>0.0</td>\n",
       "    </tr>\n",
       "    <tr>\n",
       "      <th>1988-06-30</th>\n",
       "      <td>0.0</td>\n",
       "      <td>0.0</td>\n",
       "      <td>0.0</td>\n",
       "      <td>0.0</td>\n",
       "      <td>0.0</td>\n",
       "      <td>14.700000</td>\n",
       "      <td>242.0</td>\n",
       "      <td>221.0</td>\n",
       "      <td>259.0</td>\n",
       "      <td>99.766667</td>\n",
       "      <td>95.566667</td>\n",
       "      <td>150.625</td>\n",
       "      <td>139.666667</td>\n",
       "      <td>4.541667</td>\n",
       "      <td>0.0</td>\n",
       "      <td>0.0</td>\n",
       "      <td>14.307692</td>\n",
       "      <td>141.623077</td>\n",
       "      <td>0.0</td>\n",
       "    </tr>\n",
       "    <tr>\n",
       "      <th>1988-07-31</th>\n",
       "      <td>0.0</td>\n",
       "      <td>0.0</td>\n",
       "      <td>0.0</td>\n",
       "      <td>0.0</td>\n",
       "      <td>0.0</td>\n",
       "      <td>15.516129</td>\n",
       "      <td>242.0</td>\n",
       "      <td>221.0</td>\n",
       "      <td>259.0</td>\n",
       "      <td>120.435484</td>\n",
       "      <td>121.433333</td>\n",
       "      <td>150.625</td>\n",
       "      <td>155.620690</td>\n",
       "      <td>4.541667</td>\n",
       "      <td>0.0</td>\n",
       "      <td>0.0</td>\n",
       "      <td>14.307692</td>\n",
       "      <td>145.846154</td>\n",
       "      <td>0.0</td>\n",
       "    </tr>\n",
       "  </tbody>\n",
       "</table>\n",
       "</div>"
      ],
      "text/plain": [
       "category     Hypoglycemic symptoms   Less-than-usual exercise activity  \\\n",
       "period                                                                   \n",
       "1988-03-31                     0.0                                 0.0   \n",
       "1988-04-30                     0.0                                 0.0   \n",
       "1988-05-31                     0.0                                 0.0   \n",
       "1988-06-30                     0.0                                 0.0   \n",
       "1988-07-31                     0.0                                 0.0   \n",
       "\n",
       "category     Less-than-usual meal ingestion  \\\n",
       "period                                        \n",
       "1988-03-31                              0.0   \n",
       "1988-04-30                              0.0   \n",
       "1988-05-31                              0.0   \n",
       "1988-06-30                              0.0   \n",
       "1988-07-31                              0.0   \n",
       "\n",
       "category     More-than-usual exercise activity  \\\n",
       "period                                           \n",
       "1988-03-31                                 0.0   \n",
       "1988-04-30                                 0.0   \n",
       "1988-05-31                                 0.0   \n",
       "1988-06-30                                 0.0   \n",
       "1988-07-31                                 0.0   \n",
       "\n",
       "category     More-than-usual meal ingestion   NPH insulin dose  \\\n",
       "period                                                           \n",
       "1988-03-31                              0.0          20.000000   \n",
       "1988-04-30                              0.0          19.533333   \n",
       "1988-05-31                              0.0          20.000000   \n",
       "1988-06-30                              0.0          14.700000   \n",
       "1988-07-31                              0.0          15.516129   \n",
       "\n",
       "category     Post-breakfast blood glucose measurement  \\\n",
       "period                                                  \n",
       "1988-03-31                                      242.0   \n",
       "1988-04-30                                      242.0   \n",
       "1988-05-31                                      242.0   \n",
       "1988-06-30                                      242.0   \n",
       "1988-07-31                                      242.0   \n",
       "\n",
       "category     Post-lunch blood glucose measurement  \\\n",
       "period                                              \n",
       "1988-03-31                                  221.0   \n",
       "1988-04-30                                  221.0   \n",
       "1988-05-31                                  221.0   \n",
       "1988-06-30                                  221.0   \n",
       "1988-07-31                                  221.0   \n",
       "\n",
       "category     Post-supper blood glucose measurement  \\\n",
       "period                                               \n",
       "1988-03-31                                   259.0   \n",
       "1988-04-30                                   259.0   \n",
       "1988-05-31                                   259.0   \n",
       "1988-06-30                                   259.0   \n",
       "1988-07-31                                   259.0   \n",
       "\n",
       "category     Pre-breakfast blood glucose measurement  \\\n",
       "period                                                 \n",
       "1988-03-31                                116.333333   \n",
       "1988-04-30                                114.533333   \n",
       "1988-05-31                                104.133333   \n",
       "1988-06-30                                 99.766667   \n",
       "1988-07-31                                120.435484   \n",
       "\n",
       "category     Pre-lunch blood glucose measurement  \\\n",
       "period                                             \n",
       "1988-03-31                            156.000000   \n",
       "1988-04-30                            119.285714   \n",
       "1988-05-31                            118.307692   \n",
       "1988-06-30                             95.566667   \n",
       "1988-07-31                            121.433333   \n",
       "\n",
       "category     Pre-snack blood glucose measurement  \\\n",
       "period                                             \n",
       "1988-03-31                               150.625   \n",
       "1988-04-30                               150.625   \n",
       "1988-05-31                               150.625   \n",
       "1988-06-30                               150.625   \n",
       "1988-07-31                               150.625   \n",
       "\n",
       "category     Pre-supper blood glucose measurement   Regular insulin dose  \\\n",
       "period                                                                     \n",
       "1988-03-31                             180.000000               4.541667   \n",
       "1988-04-30                             135.533333               4.541667   \n",
       "1988-05-31                             144.733333               4.541667   \n",
       "1988-06-30                             139.666667               4.541667   \n",
       "1988-07-31                             155.620690               4.541667   \n",
       "\n",
       "category     Typical exercise activity   Typical meal ingestion  \\\n",
       "period                                                            \n",
       "1988-03-31                         0.0                      0.0   \n",
       "1988-04-30                         0.0                      0.0   \n",
       "1988-05-31                         0.0                      0.0   \n",
       "1988-06-30                         0.0                      0.0   \n",
       "1988-07-31                         0.0                      0.0   \n",
       "\n",
       "category     UltraLente insulin dose   Unspecified blood glucose measurement  \\\n",
       "period                                                                         \n",
       "1988-03-31                 14.307692                              137.400000   \n",
       "1988-04-30                 14.307692                              137.400000   \n",
       "1988-05-31                 14.307692                              137.400000   \n",
       "1988-06-30                 14.307692                              141.623077   \n",
       "1988-07-31                 14.307692                              145.846154   \n",
       "\n",
       "category     Unspecified special event  \n",
       "period                                  \n",
       "1988-03-31                         0.0  \n",
       "1988-04-30                         0.0  \n",
       "1988-05-31                         0.0  \n",
       "1988-06-30                         0.0  \n",
       "1988-07-31                         0.0  "
      ]
     },
     "execution_count": 43,
     "metadata": {},
     "output_type": "execute_result"
    }
   ],
   "source": [
    "db_df.head()"
   ]
  },
  {
   "cell_type": "markdown",
   "metadata": {},
   "source": [
    "As few columns only have zero values so we can remove them from the data.Now the final output we have is the cleaned data on which we can perform analysis and model building as data is tidy now.Which was our target."
   ]
  },
  {
   "cell_type": "markdown",
   "metadata": {},
   "source": [
    "Every Data have its own data cleaning problems but the key concepts are same you have to check your data for all above steps if it passes all the condition then the data is clean and you should be \n",
    "# Thankful To Pandas"
   ]
  }
 ],
 "metadata": {
  "celltoolbar": "Raw Cell Format",
  "kernelspec": {
   "display_name": "Python 2",
   "language": "python",
   "name": "python2"
  },
  "language_info": {
   "codemirror_mode": {
    "name": "ipython",
    "version": 2
   },
   "file_extension": ".py",
   "mimetype": "text/x-python",
   "name": "python",
   "nbconvert_exporter": "python",
   "pygments_lexer": "ipython2",
   "version": "2.7.13"
  }
 },
 "nbformat": 4,
 "nbformat_minor": 2
}
