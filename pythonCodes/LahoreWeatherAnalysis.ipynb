{
 "cells": [
  {
   "cell_type": "markdown",
   "metadata": {
    "collapsed": false
   },
   "source": [
    "# Weather data analysis of Lahore for Last 30 years\n",
    "As every one is talking about the envirmental changes and temprature rise in all over the world due to human influence and many other factors so in this study i am trying to figure out is there any change in temperature in last 30 years.\n",
    "I get this data from PMD (Pakistan Meteorological Department) you can visit them [here](http://www.pmd.gov.pk/)."
   ]
  },
  {
   "cell_type": "code",
   "execution_count": 112,
   "metadata": {
    "collapsed": false
   },
   "outputs": [],
   "source": [
    "%matplotlib inline\n",
    "import pandas as pd\n",
    "import glob\n",
    "import numpy as np\n",
    "import matplotlib.pyplot as plt\n",
    "import seaborn as sns"
   ]
  },
  {
   "cell_type": "markdown",
   "metadata": {},
   "source": [
    "## Data Import \n",
    "First of all we have to import data in python the data contains 15 files with different variables so we are using glob to import all the data file paths in python then we will read the data from each path and append it in a dataframe as a variable."
   ]
  },
  {
   "cell_type": "code",
   "execution_count": 2,
   "metadata": {
    "collapsed": false
   },
   "outputs": [
    {
     "data": {
      "text/plain": [
       "['C:/Users/dell/Dropbox/weather_analysis/data\\\\FF2.TXT',\n",
       " 'C:/Users/dell/Dropbox/weather_analysis/data\\\\FF3.TXT',\n",
       " 'C:/Users/dell/Dropbox/weather_analysis/data\\\\N2.TXT',\n",
       " 'C:/Users/dell/Dropbox/weather_analysis/data\\\\N3.TXT',\n",
       " 'C:/Users/dell/Dropbox/weather_analysis/data\\\\PP2.TXT',\n",
       " 'C:/Users/dell/Dropbox/weather_analysis/data\\\\PP3.TXT',\n",
       " 'C:/Users/dell/Dropbox/weather_analysis/data\\\\PPP2.TXT',\n",
       " 'C:/Users/dell/Dropbox/weather_analysis/data\\\\PPP3.TXT',\n",
       " 'C:/Users/dell/Dropbox/weather_analysis/data\\\\RRR.TXT',\n",
       " 'C:/Users/dell/Dropbox/weather_analysis/data\\\\TNTN.TXT',\n",
       " 'C:/Users/dell/Dropbox/weather_analysis/data\\\\TXTX.TXT',\n",
       " 'C:/Users/dell/Dropbox/weather_analysis/data\\\\UU2.TXT',\n",
       " 'C:/Users/dell/Dropbox/weather_analysis/data\\\\UU3.TXT',\n",
       " 'C:/Users/dell/Dropbox/weather_analysis/data\\\\VP2.TXT',\n",
       " 'C:/Users/dell/Dropbox/weather_analysis/data\\\\VP3.TXT']"
      ]
     },
     "execution_count": 2,
     "metadata": {},
     "output_type": "execute_result"
    }
   ],
   "source": [
    "window_home='C:/Users/dell/Dropbox/weather_analysis/data'\n",
    "window_office='C:/Users/Top spot/Desktop/lahore-edit/*.TXT'\n",
    "path_list=glob.glob('C:/Users/dell/Dropbox/weather_analysis/data/*.TXT')\n",
    "path_list"
   ]
  },
  {
   "cell_type": "markdown",
   "metadata": {},
   "source": [
    "The following function takes the list of file paths and read the files and append the single file data as a new variable in dataframe and returns the dataframe with all variables that were persent in files."
   ]
  },
  {
   "cell_type": "code",
   "execution_count": 3,
   "metadata": {
    "collapsed": false
   },
   "outputs": [],
   "source": [
    "def data_import(path_list):\n",
    "    data=[pd.read_csv(x,header=None,sep='\\s+',names=['years','01','02','03','04','05','06','07','08','09','10','11','12'],\\\n",
    "                      index_col=None,na_values='-100') for x in path_list]\n",
    "    assert len(data)==len(path_list)\n",
    "    new_list=[]\n",
    "    i=0\n",
    "    for frame in data:\n",
    "        i =i+1\n",
    "        name=path_list[i-1].rsplit('\\\\')[1].rsplit('.')[0].lower()\n",
    "        frame.rename(columns={0:'years'}, inplace=True)\n",
    "        frame=pd.melt(frame,id_vars=['years'],var_name='months',value_name='values')\n",
    "        frame['date'] = frame['years'].map(str)+'-'+frame['months'].map(str)+'-'+'01'\n",
    "        frame['date']=pd.to_datetime(frame['date'],format='%Y-%m-%d')\n",
    "        frame=frame.sort_values(by='date')\n",
    "        frame=frame[['date','values']]\n",
    "        frame.rename(columns={'values':name},inplace=True)\n",
    "        frame=frame.set_index('date')\n",
    "        new_list.append(frame)\n",
    "        df =pd.concat(new_list,axis=1,join_axes=[new_list[0].index])\n",
    "    return df"
   ]
  },
  {
   "cell_type": "code",
   "execution_count": 4,
   "metadata": {
    "collapsed": false
   },
   "outputs": [],
   "source": [
    "dat=data_import(path_list)"
   ]
  },
  {
   "cell_type": "code",
   "execution_count": 5,
   "metadata": {
    "collapsed": false
   },
   "outputs": [
    {
     "data": {
      "text/html": [
       "<div>\n",
       "<table border=\"1\" class=\"dataframe\">\n",
       "  <thead>\n",
       "    <tr style=\"text-align: right;\">\n",
       "      <th></th>\n",
       "      <th>ff2</th>\n",
       "      <th>ff3</th>\n",
       "      <th>n2</th>\n",
       "      <th>n3</th>\n",
       "      <th>pp2</th>\n",
       "      <th>pp3</th>\n",
       "      <th>ppp2</th>\n",
       "      <th>ppp3</th>\n",
       "      <th>rrr</th>\n",
       "      <th>tntn</th>\n",
       "      <th>txtx</th>\n",
       "      <th>uu2</th>\n",
       "      <th>uu3</th>\n",
       "      <th>vp2</th>\n",
       "      <th>vp3</th>\n",
       "    </tr>\n",
       "    <tr>\n",
       "      <th>date</th>\n",
       "      <th></th>\n",
       "      <th></th>\n",
       "      <th></th>\n",
       "      <th></th>\n",
       "      <th></th>\n",
       "      <th></th>\n",
       "      <th></th>\n",
       "      <th></th>\n",
       "      <th></th>\n",
       "      <th></th>\n",
       "      <th></th>\n",
       "      <th></th>\n",
       "      <th></th>\n",
       "      <th></th>\n",
       "      <th></th>\n",
       "    </tr>\n",
       "  </thead>\n",
       "  <tbody>\n",
       "    <tr>\n",
       "      <th>1985-01-01</th>\n",
       "      <td>0.4</td>\n",
       "      <td>2.0</td>\n",
       "      <td>NaN</td>\n",
       "      <td>3.1</td>\n",
       "      <td>992.9</td>\n",
       "      <td>991.3</td>\n",
       "      <td>NaN</td>\n",
       "      <td>NaN</td>\n",
       "      <td>NaN</td>\n",
       "      <td>NaN</td>\n",
       "      <td>20.2</td>\n",
       "      <td>85</td>\n",
       "      <td>46</td>\n",
       "      <td>9.3</td>\n",
       "      <td>9.5</td>\n",
       "    </tr>\n",
       "    <tr>\n",
       "      <th>1985-02-01</th>\n",
       "      <td>0.3</td>\n",
       "      <td>3.0</td>\n",
       "      <td>NaN</td>\n",
       "      <td>1.2</td>\n",
       "      <td>985.8</td>\n",
       "      <td>984.2</td>\n",
       "      <td>NaN</td>\n",
       "      <td>NaN</td>\n",
       "      <td>NaN</td>\n",
       "      <td>NaN</td>\n",
       "      <td>25.3</td>\n",
       "      <td>69</td>\n",
       "      <td>32</td>\n",
       "      <td>9.1</td>\n",
       "      <td>9.2</td>\n",
       "    </tr>\n",
       "    <tr>\n",
       "      <th>1985-03-01</th>\n",
       "      <td>1.4</td>\n",
       "      <td>3.9</td>\n",
       "      <td>NaN</td>\n",
       "      <td>4.4</td>\n",
       "      <td>985.9</td>\n",
       "      <td>983.7</td>\n",
       "      <td>NaN</td>\n",
       "      <td>NaN</td>\n",
       "      <td>NaN</td>\n",
       "      <td>NaN</td>\n",
       "      <td>30.8</td>\n",
       "      <td>58</td>\n",
       "      <td>30</td>\n",
       "      <td>12.4</td>\n",
       "      <td>11.4</td>\n",
       "    </tr>\n",
       "    <tr>\n",
       "      <th>1985-04-01</th>\n",
       "      <td>1.8</td>\n",
       "      <td>3.2</td>\n",
       "      <td>NaN</td>\n",
       "      <td>3.1</td>\n",
       "      <td>981.9</td>\n",
       "      <td>979.4</td>\n",
       "      <td>NaN</td>\n",
       "      <td>NaN</td>\n",
       "      <td>NaN</td>\n",
       "      <td>NaN</td>\n",
       "      <td>34.4</td>\n",
       "      <td>54</td>\n",
       "      <td>27</td>\n",
       "      <td>15.9</td>\n",
       "      <td>13.5</td>\n",
       "    </tr>\n",
       "    <tr>\n",
       "      <th>1985-05-01</th>\n",
       "      <td>2.2</td>\n",
       "      <td>4.1</td>\n",
       "      <td>NaN</td>\n",
       "      <td>2.1</td>\n",
       "      <td>977.6</td>\n",
       "      <td>974.9</td>\n",
       "      <td>NaN</td>\n",
       "      <td>NaN</td>\n",
       "      <td>NaN</td>\n",
       "      <td>NaN</td>\n",
       "      <td>40.5</td>\n",
       "      <td>37</td>\n",
       "      <td>17</td>\n",
       "      <td>15.3</td>\n",
       "      <td>11.5</td>\n",
       "    </tr>\n",
       "  </tbody>\n",
       "</table>\n",
       "</div>"
      ],
      "text/plain": [
       "            ff2  ff3  n2   n3    pp2    pp3  ppp2  ppp3  rrr  tntn  txtx  uu2  \\\n",
       "date                                                                            \n",
       "1985-01-01  0.4  2.0 NaN  3.1  992.9  991.3   NaN   NaN  NaN   NaN  20.2   85   \n",
       "1985-02-01  0.3  3.0 NaN  1.2  985.8  984.2   NaN   NaN  NaN   NaN  25.3   69   \n",
       "1985-03-01  1.4  3.9 NaN  4.4  985.9  983.7   NaN   NaN  NaN   NaN  30.8   58   \n",
       "1985-04-01  1.8  3.2 NaN  3.1  981.9  979.4   NaN   NaN  NaN   NaN  34.4   54   \n",
       "1985-05-01  2.2  4.1 NaN  2.1  977.6  974.9   NaN   NaN  NaN   NaN  40.5   37   \n",
       "\n",
       "            uu3   vp2   vp3  \n",
       "date                         \n",
       "1985-01-01   46   9.3   9.5  \n",
       "1985-02-01   32   9.1   9.2  \n",
       "1985-03-01   30  12.4  11.4  \n",
       "1985-04-01   27  15.9  13.5  \n",
       "1985-05-01   17  15.3  11.5  "
      ]
     },
     "execution_count": 5,
     "metadata": {},
     "output_type": "execute_result"
    }
   ],
   "source": [
    "dat.head()"
   ]
  },
  {
   "cell_type": "markdown",
   "metadata": {},
   "source": [
    "Now as we have imported complete data in a dat dataframe with all variables we are using the abbrevations for the variables here used by PMD but we will change them with original variable names."
   ]
  },
  {
   "cell_type": "markdown",
   "metadata": {},
   "source": [
    "## Data Cleaning\n",
    "The most important task after importing the data is data cleaning because every data needs to be cleaned before analysis and its the most difficult and time consuming part in data science.It involves the detection and removel of wrong observations from data.\n",
    "Data can heve problems like\n",
    "<br>\n",
    "Missing values, \n",
    "<br>\n",
    "Column names,\n",
    "<br>\n",
    "Outliers, \n",
    "<br>\n",
    "Unexpected observations in columns,\n",
    "<br>\n",
    "Duplicate Rows,\n",
    "<br>\n",
    "Untidy Data.\n",
    "<br>\n",
    "The data was untidy so i had already deal that in data import function.But we will see other problem step by step. "
   ]
  },
  {
   "cell_type": "code",
   "execution_count": 6,
   "metadata": {
    "collapsed": false
   },
   "outputs": [
    {
     "name": "stdout",
     "output_type": "stream",
     "text": [
      "<class 'pandas.core.frame.DataFrame'>\n",
      "DatetimeIndex: 372 entries, 1985-01-01 to 2015-12-01\n",
      "Data columns (total 15 columns):\n",
      "ff2     371 non-null float64\n",
      "ff3     371 non-null float64\n",
      "n2      360 non-null float64\n",
      "n3      372 non-null float64\n",
      "pp2     372 non-null float64\n",
      "pp3     372 non-null float64\n",
      "ppp2    360 non-null float64\n",
      "ppp3    360 non-null float64\n",
      "rrr     360 non-null float64\n",
      "tntn    360 non-null float64\n",
      "txtx    372 non-null float64\n",
      "uu2     372 non-null int64\n",
      "uu3     372 non-null int64\n",
      "vp2     372 non-null float64\n",
      "vp3     372 non-null float64\n",
      "dtypes: float64(13), int64(2)\n",
      "memory usage: 46.5 KB\n"
     ]
    }
   ],
   "source": [
    "dat.info()"
   ]
  },
  {
   "cell_type": "code",
   "execution_count": 7,
   "metadata": {
    "collapsed": false
   },
   "outputs": [
    {
     "data": {
      "text/html": [
       "<div>\n",
       "<table border=\"1\" class=\"dataframe\">\n",
       "  <thead>\n",
       "    <tr style=\"text-align: right;\">\n",
       "      <th></th>\n",
       "      <th>ff2</th>\n",
       "      <th>ff3</th>\n",
       "      <th>n2</th>\n",
       "      <th>n3</th>\n",
       "      <th>pp2</th>\n",
       "      <th>pp3</th>\n",
       "      <th>ppp2</th>\n",
       "      <th>ppp3</th>\n",
       "      <th>rrr</th>\n",
       "      <th>tntn</th>\n",
       "      <th>txtx</th>\n",
       "      <th>uu2</th>\n",
       "      <th>uu3</th>\n",
       "      <th>vp2</th>\n",
       "      <th>vp3</th>\n",
       "    </tr>\n",
       "    <tr>\n",
       "      <th>date</th>\n",
       "      <th></th>\n",
       "      <th></th>\n",
       "      <th></th>\n",
       "      <th></th>\n",
       "      <th></th>\n",
       "      <th></th>\n",
       "      <th></th>\n",
       "      <th></th>\n",
       "      <th></th>\n",
       "      <th></th>\n",
       "      <th></th>\n",
       "      <th></th>\n",
       "      <th></th>\n",
       "      <th></th>\n",
       "      <th></th>\n",
       "    </tr>\n",
       "  </thead>\n",
       "  <tbody>\n",
       "    <tr>\n",
       "      <th>1985-01-01</th>\n",
       "      <td>0.4</td>\n",
       "      <td>2.0</td>\n",
       "      <td>NaN</td>\n",
       "      <td>3.1</td>\n",
       "      <td>992.9</td>\n",
       "      <td>991.3</td>\n",
       "      <td>NaN</td>\n",
       "      <td>NaN</td>\n",
       "      <td>NaN</td>\n",
       "      <td>NaN</td>\n",
       "      <td>20.2</td>\n",
       "      <td>85</td>\n",
       "      <td>46</td>\n",
       "      <td>9.3</td>\n",
       "      <td>9.5</td>\n",
       "    </tr>\n",
       "    <tr>\n",
       "      <th>1985-02-01</th>\n",
       "      <td>0.3</td>\n",
       "      <td>3.0</td>\n",
       "      <td>NaN</td>\n",
       "      <td>1.2</td>\n",
       "      <td>985.8</td>\n",
       "      <td>984.2</td>\n",
       "      <td>NaN</td>\n",
       "      <td>NaN</td>\n",
       "      <td>NaN</td>\n",
       "      <td>NaN</td>\n",
       "      <td>25.3</td>\n",
       "      <td>69</td>\n",
       "      <td>32</td>\n",
       "      <td>9.1</td>\n",
       "      <td>9.2</td>\n",
       "    </tr>\n",
       "    <tr>\n",
       "      <th>1985-03-01</th>\n",
       "      <td>1.4</td>\n",
       "      <td>3.9</td>\n",
       "      <td>NaN</td>\n",
       "      <td>4.4</td>\n",
       "      <td>985.9</td>\n",
       "      <td>983.7</td>\n",
       "      <td>NaN</td>\n",
       "      <td>NaN</td>\n",
       "      <td>NaN</td>\n",
       "      <td>NaN</td>\n",
       "      <td>30.8</td>\n",
       "      <td>58</td>\n",
       "      <td>30</td>\n",
       "      <td>12.4</td>\n",
       "      <td>11.4</td>\n",
       "    </tr>\n",
       "    <tr>\n",
       "      <th>1985-04-01</th>\n",
       "      <td>1.8</td>\n",
       "      <td>3.2</td>\n",
       "      <td>NaN</td>\n",
       "      <td>3.1</td>\n",
       "      <td>981.9</td>\n",
       "      <td>979.4</td>\n",
       "      <td>NaN</td>\n",
       "      <td>NaN</td>\n",
       "      <td>NaN</td>\n",
       "      <td>NaN</td>\n",
       "      <td>34.4</td>\n",
       "      <td>54</td>\n",
       "      <td>27</td>\n",
       "      <td>15.9</td>\n",
       "      <td>13.5</td>\n",
       "    </tr>\n",
       "    <tr>\n",
       "      <th>1985-05-01</th>\n",
       "      <td>2.2</td>\n",
       "      <td>4.1</td>\n",
       "      <td>NaN</td>\n",
       "      <td>2.1</td>\n",
       "      <td>977.6</td>\n",
       "      <td>974.9</td>\n",
       "      <td>NaN</td>\n",
       "      <td>NaN</td>\n",
       "      <td>NaN</td>\n",
       "      <td>NaN</td>\n",
       "      <td>40.5</td>\n",
       "      <td>37</td>\n",
       "      <td>17</td>\n",
       "      <td>15.3</td>\n",
       "      <td>11.5</td>\n",
       "    </tr>\n",
       "  </tbody>\n",
       "</table>\n",
       "</div>"
      ],
      "text/plain": [
       "            ff2  ff3  n2   n3    pp2    pp3  ppp2  ppp3  rrr  tntn  txtx  uu2  \\\n",
       "date                                                                            \n",
       "1985-01-01  0.4  2.0 NaN  3.1  992.9  991.3   NaN   NaN  NaN   NaN  20.2   85   \n",
       "1985-02-01  0.3  3.0 NaN  1.2  985.8  984.2   NaN   NaN  NaN   NaN  25.3   69   \n",
       "1985-03-01  1.4  3.9 NaN  4.4  985.9  983.7   NaN   NaN  NaN   NaN  30.8   58   \n",
       "1985-04-01  1.8  3.2 NaN  3.1  981.9  979.4   NaN   NaN  NaN   NaN  34.4   54   \n",
       "1985-05-01  2.2  4.1 NaN  2.1  977.6  974.9   NaN   NaN  NaN   NaN  40.5   37   \n",
       "\n",
       "            uu3   vp2   vp3  \n",
       "date                         \n",
       "1985-01-01   46   9.3   9.5  \n",
       "1985-02-01   32   9.1   9.2  \n",
       "1985-03-01   30  12.4  11.4  \n",
       "1985-04-01   27  15.9  13.5  \n",
       "1985-05-01   17  15.3  11.5  "
      ]
     },
     "execution_count": 7,
     "metadata": {},
     "output_type": "execute_result"
    }
   ],
   "source": [
    "dat.head()"
   ]
  },
  {
   "cell_type": "markdown",
   "metadata": {},
   "source": [
    "### Missing Observations\n",
    "There were some missing observations with value '-100' in data which were replaced at the time of import with 'NAN'.Now From info and head we can see that there are missing observations in data so after studying the data we can see that many columns does not contain the data for year 1985 so completly remove this year from our data set."
   ]
  },
  {
   "cell_type": "code",
   "execution_count": 8,
   "metadata": {
    "collapsed": false
   },
   "outputs": [
    {
     "name": "stdout",
     "output_type": "stream",
     "text": [
      "<class 'pandas.core.frame.DataFrame'>\n",
      "DatetimeIndex: 372 entries, 1985-01-01 to 2015-12-01\n",
      "Data columns (total 15 columns):\n",
      "ff2     371 non-null float64\n",
      "ff3     371 non-null float64\n",
      "n2      360 non-null float64\n",
      "n3      372 non-null float64\n",
      "pp2     372 non-null float64\n",
      "pp3     372 non-null float64\n",
      "ppp2    360 non-null float64\n",
      "ppp3    360 non-null float64\n",
      "rrr     360 non-null float64\n",
      "tntn    360 non-null float64\n",
      "txtx    372 non-null float64\n",
      "uu2     372 non-null int64\n",
      "uu3     372 non-null int64\n",
      "vp2     372 non-null float64\n",
      "vp3     372 non-null float64\n",
      "dtypes: float64(13), int64(2)\n",
      "memory usage: 46.5 KB\n"
     ]
    }
   ],
   "source": [
    "dat.info()"
   ]
  },
  {
   "cell_type": "code",
   "execution_count": 9,
   "metadata": {
    "collapsed": false
   },
   "outputs": [],
   "source": [
    "dat.drop(dat['1985-01':'1985-12'].index,inplace=True)"
   ]
  },
  {
   "cell_type": "markdown",
   "metadata": {},
   "source": [
    "After removing the 1985 year from data we are checking any other missing observation in data set.So there are two variables that have missing observations and we will replace them with their mean's."
   ]
  },
  {
   "cell_type": "code",
   "execution_count": 10,
   "metadata": {
    "collapsed": false
   },
   "outputs": [
    {
     "data": {
      "text/plain": [
       "ff2     False\n",
       "ff3     False\n",
       "n2       True\n",
       "n3       True\n",
       "pp2      True\n",
       "pp3      True\n",
       "ppp2     True\n",
       "ppp3     True\n",
       "rrr      True\n",
       "tntn     True\n",
       "txtx     True\n",
       "uu2      True\n",
       "uu3      True\n",
       "vp2      True\n",
       "vp3      True\n",
       "dtype: bool"
      ]
     },
     "execution_count": 10,
     "metadata": {},
     "output_type": "execute_result"
    }
   ],
   "source": [
    "dat.notnull().all()"
   ]
  },
  {
   "cell_type": "code",
   "execution_count": 11,
   "metadata": {
    "collapsed": false
   },
   "outputs": [
    {
     "data": {
      "text/html": [
       "<div>\n",
       "<table border=\"1\" class=\"dataframe\">\n",
       "  <thead>\n",
       "    <tr style=\"text-align: right;\">\n",
       "      <th></th>\n",
       "      <th>ff2</th>\n",
       "      <th>ff3</th>\n",
       "      <th>n2</th>\n",
       "      <th>n3</th>\n",
       "      <th>pp2</th>\n",
       "      <th>pp3</th>\n",
       "      <th>ppp2</th>\n",
       "      <th>ppp3</th>\n",
       "      <th>rrr</th>\n",
       "      <th>tntn</th>\n",
       "      <th>txtx</th>\n",
       "      <th>uu2</th>\n",
       "      <th>uu3</th>\n",
       "      <th>vp2</th>\n",
       "      <th>vp3</th>\n",
       "    </tr>\n",
       "    <tr>\n",
       "      <th>date</th>\n",
       "      <th></th>\n",
       "      <th></th>\n",
       "      <th></th>\n",
       "      <th></th>\n",
       "      <th></th>\n",
       "      <th></th>\n",
       "      <th></th>\n",
       "      <th></th>\n",
       "      <th></th>\n",
       "      <th></th>\n",
       "      <th></th>\n",
       "      <th></th>\n",
       "      <th></th>\n",
       "      <th></th>\n",
       "      <th></th>\n",
       "    </tr>\n",
       "  </thead>\n",
       "  <tbody>\n",
       "    <tr>\n",
       "      <th>1990-07-01</th>\n",
       "      <td>NaN</td>\n",
       "      <td>NaN</td>\n",
       "      <td>4.8</td>\n",
       "      <td>4.5</td>\n",
       "      <td>973.9</td>\n",
       "      <td>971.3</td>\n",
       "      <td>997.7</td>\n",
       "      <td>994.6</td>\n",
       "      <td>181.5</td>\n",
       "      <td>26.8</td>\n",
       "      <td>35.4</td>\n",
       "      <td>75</td>\n",
       "      <td>59</td>\n",
       "      <td>30.7</td>\n",
       "      <td>32.1</td>\n",
       "    </tr>\n",
       "  </tbody>\n",
       "</table>\n",
       "</div>"
      ],
      "text/plain": [
       "            ff2  ff3   n2   n3    pp2    pp3   ppp2   ppp3    rrr  tntn  txtx  \\\n",
       "date                                                                            \n",
       "1990-07-01  NaN  NaN  4.8  4.5  973.9  971.3  997.7  994.6  181.5  26.8  35.4   \n",
       "\n",
       "            uu2  uu3   vp2   vp3  \n",
       "date                              \n",
       "1990-07-01   75   59  30.7  32.1  "
      ]
     },
     "execution_count": 11,
     "metadata": {},
     "output_type": "execute_result"
    }
   ],
   "source": [
    "dat[dat.ff2.isnull()]"
   ]
  },
  {
   "cell_type": "code",
   "execution_count": 12,
   "metadata": {
    "collapsed": false
   },
   "outputs": [],
   "source": [
    "dat.ix[dat.ff2.isnull(),'ff2']=dat.ff2.mean()\n",
    "#dat['ff2']=dat.ff2.fillna(dat.ff2.mean())"
   ]
  },
  {
   "cell_type": "code",
   "execution_count": 13,
   "metadata": {
    "collapsed": false
   },
   "outputs": [
    {
     "data": {
      "text/html": [
       "<div>\n",
       "<table border=\"1\" class=\"dataframe\">\n",
       "  <thead>\n",
       "    <tr style=\"text-align: right;\">\n",
       "      <th></th>\n",
       "      <th>ff2</th>\n",
       "      <th>ff3</th>\n",
       "      <th>n2</th>\n",
       "      <th>n3</th>\n",
       "      <th>pp2</th>\n",
       "      <th>pp3</th>\n",
       "      <th>ppp2</th>\n",
       "      <th>ppp3</th>\n",
       "      <th>rrr</th>\n",
       "      <th>tntn</th>\n",
       "      <th>txtx</th>\n",
       "      <th>uu2</th>\n",
       "      <th>uu3</th>\n",
       "      <th>vp2</th>\n",
       "      <th>vp3</th>\n",
       "    </tr>\n",
       "    <tr>\n",
       "      <th>date</th>\n",
       "      <th></th>\n",
       "      <th></th>\n",
       "      <th></th>\n",
       "      <th></th>\n",
       "      <th></th>\n",
       "      <th></th>\n",
       "      <th></th>\n",
       "      <th></th>\n",
       "      <th></th>\n",
       "      <th></th>\n",
       "      <th></th>\n",
       "      <th></th>\n",
       "      <th></th>\n",
       "      <th></th>\n",
       "      <th></th>\n",
       "    </tr>\n",
       "  </thead>\n",
       "  <tbody>\n",
       "    <tr>\n",
       "      <th>1990-07-01</th>\n",
       "      <td>1.306964</td>\n",
       "      <td>NaN</td>\n",
       "      <td>4.8</td>\n",
       "      <td>4.5</td>\n",
       "      <td>973.9</td>\n",
       "      <td>971.3</td>\n",
       "      <td>997.7</td>\n",
       "      <td>994.6</td>\n",
       "      <td>181.5</td>\n",
       "      <td>26.8</td>\n",
       "      <td>35.4</td>\n",
       "      <td>75</td>\n",
       "      <td>59</td>\n",
       "      <td>30.7</td>\n",
       "      <td>32.1</td>\n",
       "    </tr>\n",
       "  </tbody>\n",
       "</table>\n",
       "</div>"
      ],
      "text/plain": [
       "                 ff2  ff3   n2   n3    pp2    pp3   ppp2   ppp3    rrr  tntn  \\\n",
       "date                                                                           \n",
       "1990-07-01  1.306964  NaN  4.8  4.5  973.9  971.3  997.7  994.6  181.5  26.8   \n",
       "\n",
       "            txtx  uu2  uu3   vp2   vp3  \n",
       "date                                    \n",
       "1990-07-01  35.4   75   59  30.7  32.1  "
      ]
     },
     "execution_count": 13,
     "metadata": {},
     "output_type": "execute_result"
    }
   ],
   "source": [
    "dat[dat.ff3.isnull()]"
   ]
  },
  {
   "cell_type": "code",
   "execution_count": 14,
   "metadata": {
    "collapsed": true
   },
   "outputs": [],
   "source": [
    "dat.ix[dat.ff3.isnull(),'ff3']=dat.ff3.mean()"
   ]
  },
  {
   "cell_type": "code",
   "execution_count": 15,
   "metadata": {
    "collapsed": false
   },
   "outputs": [
    {
     "data": {
      "text/plain": [
       "True"
      ]
     },
     "execution_count": 15,
     "metadata": {},
     "output_type": "execute_result"
    }
   ],
   "source": [
    "dat.notnull().all().all()"
   ]
  },
  {
   "cell_type": "markdown",
   "metadata": {},
   "source": [
    "### Unexpected Observations\n",
    "Now we will test the presence of any unexpected/wrong observation in data.So by testing the condition on complete data set we can see that the condition is false so there are one or more columns that have values less then 0 which is not possible so we have to find and remove them from data."
   ]
  },
  {
   "cell_type": "code",
   "execution_count": 16,
   "metadata": {
    "collapsed": false
   },
   "outputs": [
    {
     "data": {
      "text/plain": [
       "False"
      ]
     },
     "execution_count": 16,
     "metadata": {},
     "output_type": "execute_result"
    }
   ],
   "source": [
    "(dat>0).all().all()"
   ]
  },
  {
   "cell_type": "code",
   "execution_count": 17,
   "metadata": {
    "collapsed": false
   },
   "outputs": [
    {
     "data": {
      "text/html": [
       "<div>\n",
       "<table border=\"1\" class=\"dataframe\">\n",
       "  <thead>\n",
       "    <tr style=\"text-align: right;\">\n",
       "      <th></th>\n",
       "      <th>ff2</th>\n",
       "      <th>ff3</th>\n",
       "      <th>n2</th>\n",
       "      <th>n3</th>\n",
       "      <th>pp2</th>\n",
       "      <th>pp3</th>\n",
       "      <th>ppp2</th>\n",
       "      <th>ppp3</th>\n",
       "      <th>rrr</th>\n",
       "      <th>tntn</th>\n",
       "      <th>txtx</th>\n",
       "      <th>uu2</th>\n",
       "      <th>uu3</th>\n",
       "      <th>vp2</th>\n",
       "      <th>vp3</th>\n",
       "    </tr>\n",
       "    <tr>\n",
       "      <th>date</th>\n",
       "      <th></th>\n",
       "      <th></th>\n",
       "      <th></th>\n",
       "      <th></th>\n",
       "      <th></th>\n",
       "      <th></th>\n",
       "      <th></th>\n",
       "      <th></th>\n",
       "      <th></th>\n",
       "      <th></th>\n",
       "      <th></th>\n",
       "      <th></th>\n",
       "      <th></th>\n",
       "      <th></th>\n",
       "      <th></th>\n",
       "    </tr>\n",
       "  </thead>\n",
       "  <tbody>\n",
       "  </tbody>\n",
       "</table>\n",
       "</div>"
      ],
      "text/plain": [
       "Empty DataFrame\n",
       "Columns: [ff2, ff3, n2, n3, pp2, pp3, ppp2, ppp3, rrr, tntn, txtx, uu2, uu3, vp2, vp3]\n",
       "Index: []"
      ]
     },
     "execution_count": 17,
     "metadata": {},
     "output_type": "execute_result"
    }
   ],
   "source": [
    "dat[(dat.ff2<0)]"
   ]
  },
  {
   "cell_type": "code",
   "execution_count": 18,
   "metadata": {
    "collapsed": false
   },
   "outputs": [
    {
     "data": {
      "text/html": [
       "<div>\n",
       "<table border=\"1\" class=\"dataframe\">\n",
       "  <thead>\n",
       "    <tr style=\"text-align: right;\">\n",
       "      <th></th>\n",
       "      <th>ff2</th>\n",
       "      <th>ff3</th>\n",
       "      <th>n2</th>\n",
       "      <th>n3</th>\n",
       "      <th>pp2</th>\n",
       "      <th>pp3</th>\n",
       "      <th>ppp2</th>\n",
       "      <th>ppp3</th>\n",
       "      <th>rrr</th>\n",
       "      <th>tntn</th>\n",
       "      <th>txtx</th>\n",
       "      <th>uu2</th>\n",
       "      <th>uu3</th>\n",
       "      <th>vp2</th>\n",
       "      <th>vp3</th>\n",
       "    </tr>\n",
       "    <tr>\n",
       "      <th>date</th>\n",
       "      <th></th>\n",
       "      <th></th>\n",
       "      <th></th>\n",
       "      <th></th>\n",
       "      <th></th>\n",
       "      <th></th>\n",
       "      <th></th>\n",
       "      <th></th>\n",
       "      <th></th>\n",
       "      <th></th>\n",
       "      <th></th>\n",
       "      <th></th>\n",
       "      <th></th>\n",
       "      <th></th>\n",
       "      <th></th>\n",
       "    </tr>\n",
       "  </thead>\n",
       "  <tbody>\n",
       "  </tbody>\n",
       "</table>\n",
       "</div>"
      ],
      "text/plain": [
       "Empty DataFrame\n",
       "Columns: [ff2, ff3, n2, n3, pp2, pp3, ppp2, ppp3, rrr, tntn, txtx, uu2, uu3, vp2, vp3]\n",
       "Index: []"
      ]
     },
     "execution_count": 18,
     "metadata": {},
     "output_type": "execute_result"
    }
   ],
   "source": [
    "dat[(dat.ff3<0)]"
   ]
  },
  {
   "cell_type": "code",
   "execution_count": 19,
   "metadata": {
    "collapsed": false
   },
   "outputs": [
    {
     "data": {
      "text/html": [
       "<div>\n",
       "<table border=\"1\" class=\"dataframe\">\n",
       "  <thead>\n",
       "    <tr style=\"text-align: right;\">\n",
       "      <th></th>\n",
       "      <th>ff2</th>\n",
       "      <th>ff3</th>\n",
       "      <th>n2</th>\n",
       "      <th>n3</th>\n",
       "      <th>pp2</th>\n",
       "      <th>pp3</th>\n",
       "      <th>ppp2</th>\n",
       "      <th>ppp3</th>\n",
       "      <th>rrr</th>\n",
       "      <th>tntn</th>\n",
       "      <th>txtx</th>\n",
       "      <th>uu2</th>\n",
       "      <th>uu3</th>\n",
       "      <th>vp2</th>\n",
       "      <th>vp3</th>\n",
       "    </tr>\n",
       "    <tr>\n",
       "      <th>date</th>\n",
       "      <th></th>\n",
       "      <th></th>\n",
       "      <th></th>\n",
       "      <th></th>\n",
       "      <th></th>\n",
       "      <th></th>\n",
       "      <th></th>\n",
       "      <th></th>\n",
       "      <th></th>\n",
       "      <th></th>\n",
       "      <th></th>\n",
       "      <th></th>\n",
       "      <th></th>\n",
       "      <th></th>\n",
       "      <th></th>\n",
       "    </tr>\n",
       "  </thead>\n",
       "  <tbody>\n",
       "  </tbody>\n",
       "</table>\n",
       "</div>"
      ],
      "text/plain": [
       "Empty DataFrame\n",
       "Columns: [ff2, ff3, n2, n3, pp2, pp3, ppp2, ppp3, rrr, tntn, txtx, uu2, uu3, vp2, vp3]\n",
       "Index: []"
      ]
     },
     "execution_count": 19,
     "metadata": {},
     "output_type": "execute_result"
    }
   ],
   "source": [
    "dat[(dat.n2<0)]"
   ]
  },
  {
   "cell_type": "code",
   "execution_count": 20,
   "metadata": {
    "collapsed": false
   },
   "outputs": [
    {
     "data": {
      "text/html": [
       "<div>\n",
       "<table border=\"1\" class=\"dataframe\">\n",
       "  <thead>\n",
       "    <tr style=\"text-align: right;\">\n",
       "      <th></th>\n",
       "      <th>ff2</th>\n",
       "      <th>ff3</th>\n",
       "      <th>n2</th>\n",
       "      <th>n3</th>\n",
       "      <th>pp2</th>\n",
       "      <th>pp3</th>\n",
       "      <th>ppp2</th>\n",
       "      <th>ppp3</th>\n",
       "      <th>rrr</th>\n",
       "      <th>tntn</th>\n",
       "      <th>txtx</th>\n",
       "      <th>uu2</th>\n",
       "      <th>uu3</th>\n",
       "      <th>vp2</th>\n",
       "      <th>vp3</th>\n",
       "    </tr>\n",
       "    <tr>\n",
       "      <th>date</th>\n",
       "      <th></th>\n",
       "      <th></th>\n",
       "      <th></th>\n",
       "      <th></th>\n",
       "      <th></th>\n",
       "      <th></th>\n",
       "      <th></th>\n",
       "      <th></th>\n",
       "      <th></th>\n",
       "      <th></th>\n",
       "      <th></th>\n",
       "      <th></th>\n",
       "      <th></th>\n",
       "      <th></th>\n",
       "      <th></th>\n",
       "    </tr>\n",
       "  </thead>\n",
       "  <tbody>\n",
       "  </tbody>\n",
       "</table>\n",
       "</div>"
      ],
      "text/plain": [
       "Empty DataFrame\n",
       "Columns: [ff2, ff3, n2, n3, pp2, pp3, ppp2, ppp3, rrr, tntn, txtx, uu2, uu3, vp2, vp3]\n",
       "Index: []"
      ]
     },
     "execution_count": 20,
     "metadata": {},
     "output_type": "execute_result"
    }
   ],
   "source": [
    "dat[(dat.n3<0)]"
   ]
  },
  {
   "cell_type": "code",
   "execution_count": 21,
   "metadata": {
    "collapsed": false
   },
   "outputs": [
    {
     "data": {
      "text/html": [
       "<div>\n",
       "<table border=\"1\" class=\"dataframe\">\n",
       "  <thead>\n",
       "    <tr style=\"text-align: right;\">\n",
       "      <th></th>\n",
       "      <th>ff2</th>\n",
       "      <th>ff3</th>\n",
       "      <th>n2</th>\n",
       "      <th>n3</th>\n",
       "      <th>pp2</th>\n",
       "      <th>pp3</th>\n",
       "      <th>ppp2</th>\n",
       "      <th>ppp3</th>\n",
       "      <th>rrr</th>\n",
       "      <th>tntn</th>\n",
       "      <th>txtx</th>\n",
       "      <th>uu2</th>\n",
       "      <th>uu3</th>\n",
       "      <th>vp2</th>\n",
       "      <th>vp3</th>\n",
       "    </tr>\n",
       "    <tr>\n",
       "      <th>date</th>\n",
       "      <th></th>\n",
       "      <th></th>\n",
       "      <th></th>\n",
       "      <th></th>\n",
       "      <th></th>\n",
       "      <th></th>\n",
       "      <th></th>\n",
       "      <th></th>\n",
       "      <th></th>\n",
       "      <th></th>\n",
       "      <th></th>\n",
       "      <th></th>\n",
       "      <th></th>\n",
       "      <th></th>\n",
       "      <th></th>\n",
       "    </tr>\n",
       "  </thead>\n",
       "  <tbody>\n",
       "  </tbody>\n",
       "</table>\n",
       "</div>"
      ],
      "text/plain": [
       "Empty DataFrame\n",
       "Columns: [ff2, ff3, n2, n3, pp2, pp3, ppp2, ppp3, rrr, tntn, txtx, uu2, uu3, vp2, vp3]\n",
       "Index: []"
      ]
     },
     "execution_count": 21,
     "metadata": {},
     "output_type": "execute_result"
    }
   ],
   "source": [
    "dat[(dat.pp2<0)]"
   ]
  },
  {
   "cell_type": "code",
   "execution_count": 22,
   "metadata": {
    "collapsed": false
   },
   "outputs": [
    {
     "data": {
      "text/html": [
       "<div>\n",
       "<table border=\"1\" class=\"dataframe\">\n",
       "  <thead>\n",
       "    <tr style=\"text-align: right;\">\n",
       "      <th></th>\n",
       "      <th>ff2</th>\n",
       "      <th>ff3</th>\n",
       "      <th>n2</th>\n",
       "      <th>n3</th>\n",
       "      <th>pp2</th>\n",
       "      <th>pp3</th>\n",
       "      <th>ppp2</th>\n",
       "      <th>ppp3</th>\n",
       "      <th>rrr</th>\n",
       "      <th>tntn</th>\n",
       "      <th>txtx</th>\n",
       "      <th>uu2</th>\n",
       "      <th>uu3</th>\n",
       "      <th>vp2</th>\n",
       "      <th>vp3</th>\n",
       "    </tr>\n",
       "    <tr>\n",
       "      <th>date</th>\n",
       "      <th></th>\n",
       "      <th></th>\n",
       "      <th></th>\n",
       "      <th></th>\n",
       "      <th></th>\n",
       "      <th></th>\n",
       "      <th></th>\n",
       "      <th></th>\n",
       "      <th></th>\n",
       "      <th></th>\n",
       "      <th></th>\n",
       "      <th></th>\n",
       "      <th></th>\n",
       "      <th></th>\n",
       "      <th></th>\n",
       "    </tr>\n",
       "  </thead>\n",
       "  <tbody>\n",
       "  </tbody>\n",
       "</table>\n",
       "</div>"
      ],
      "text/plain": [
       "Empty DataFrame\n",
       "Columns: [ff2, ff3, n2, n3, pp2, pp3, ppp2, ppp3, rrr, tntn, txtx, uu2, uu3, vp2, vp3]\n",
       "Index: []"
      ]
     },
     "execution_count": 22,
     "metadata": {},
     "output_type": "execute_result"
    }
   ],
   "source": [
    "dat[(dat.pp3<0)]"
   ]
  },
  {
   "cell_type": "code",
   "execution_count": 23,
   "metadata": {
    "collapsed": false
   },
   "outputs": [
    {
     "data": {
      "text/html": [
       "<div>\n",
       "<table border=\"1\" class=\"dataframe\">\n",
       "  <thead>\n",
       "    <tr style=\"text-align: right;\">\n",
       "      <th></th>\n",
       "      <th>ff2</th>\n",
       "      <th>ff3</th>\n",
       "      <th>n2</th>\n",
       "      <th>n3</th>\n",
       "      <th>pp2</th>\n",
       "      <th>pp3</th>\n",
       "      <th>ppp2</th>\n",
       "      <th>ppp3</th>\n",
       "      <th>rrr</th>\n",
       "      <th>tntn</th>\n",
       "      <th>txtx</th>\n",
       "      <th>uu2</th>\n",
       "      <th>uu3</th>\n",
       "      <th>vp2</th>\n",
       "      <th>vp3</th>\n",
       "    </tr>\n",
       "    <tr>\n",
       "      <th>date</th>\n",
       "      <th></th>\n",
       "      <th></th>\n",
       "      <th></th>\n",
       "      <th></th>\n",
       "      <th></th>\n",
       "      <th></th>\n",
       "      <th></th>\n",
       "      <th></th>\n",
       "      <th></th>\n",
       "      <th></th>\n",
       "      <th></th>\n",
       "      <th></th>\n",
       "      <th></th>\n",
       "      <th></th>\n",
       "      <th></th>\n",
       "    </tr>\n",
       "  </thead>\n",
       "  <tbody>\n",
       "  </tbody>\n",
       "</table>\n",
       "</div>"
      ],
      "text/plain": [
       "Empty DataFrame\n",
       "Columns: [ff2, ff3, n2, n3, pp2, pp3, ppp2, ppp3, rrr, tntn, txtx, uu2, uu3, vp2, vp3]\n",
       "Index: []"
      ]
     },
     "execution_count": 23,
     "metadata": {},
     "output_type": "execute_result"
    }
   ],
   "source": [
    "dat[(dat.ppp2<0)]"
   ]
  },
  {
   "cell_type": "code",
   "execution_count": 24,
   "metadata": {
    "collapsed": false
   },
   "outputs": [
    {
     "data": {
      "text/html": [
       "<div>\n",
       "<table border=\"1\" class=\"dataframe\">\n",
       "  <thead>\n",
       "    <tr style=\"text-align: right;\">\n",
       "      <th></th>\n",
       "      <th>ff2</th>\n",
       "      <th>ff3</th>\n",
       "      <th>n2</th>\n",
       "      <th>n3</th>\n",
       "      <th>pp2</th>\n",
       "      <th>pp3</th>\n",
       "      <th>ppp2</th>\n",
       "      <th>ppp3</th>\n",
       "      <th>rrr</th>\n",
       "      <th>tntn</th>\n",
       "      <th>txtx</th>\n",
       "      <th>uu2</th>\n",
       "      <th>uu3</th>\n",
       "      <th>vp2</th>\n",
       "      <th>vp3</th>\n",
       "    </tr>\n",
       "    <tr>\n",
       "      <th>date</th>\n",
       "      <th></th>\n",
       "      <th></th>\n",
       "      <th></th>\n",
       "      <th></th>\n",
       "      <th></th>\n",
       "      <th></th>\n",
       "      <th></th>\n",
       "      <th></th>\n",
       "      <th></th>\n",
       "      <th></th>\n",
       "      <th></th>\n",
       "      <th></th>\n",
       "      <th></th>\n",
       "      <th></th>\n",
       "      <th></th>\n",
       "    </tr>\n",
       "  </thead>\n",
       "  <tbody>\n",
       "  </tbody>\n",
       "</table>\n",
       "</div>"
      ],
      "text/plain": [
       "Empty DataFrame\n",
       "Columns: [ff2, ff3, n2, n3, pp2, pp3, ppp2, ppp3, rrr, tntn, txtx, uu2, uu3, vp2, vp3]\n",
       "Index: []"
      ]
     },
     "execution_count": 24,
     "metadata": {},
     "output_type": "execute_result"
    }
   ],
   "source": [
    "dat[(dat.ppp3<0)]"
   ]
  },
  {
   "cell_type": "markdown",
   "metadata": {},
   "source": [
    "so only rrr which is monthly rain column have some unexpected observations so we will remove them with nan and then we will replace them with mean."
   ]
  },
  {
   "cell_type": "code",
   "execution_count": 25,
   "metadata": {
    "collapsed": false
   },
   "outputs": [
    {
     "data": {
      "text/html": [
       "<div>\n",
       "<table border=\"1\" class=\"dataframe\">\n",
       "  <thead>\n",
       "    <tr style=\"text-align: right;\">\n",
       "      <th></th>\n",
       "      <th>ff2</th>\n",
       "      <th>ff3</th>\n",
       "      <th>n2</th>\n",
       "      <th>n3</th>\n",
       "      <th>pp2</th>\n",
       "      <th>pp3</th>\n",
       "      <th>ppp2</th>\n",
       "      <th>ppp3</th>\n",
       "      <th>rrr</th>\n",
       "      <th>tntn</th>\n",
       "      <th>txtx</th>\n",
       "      <th>uu2</th>\n",
       "      <th>uu3</th>\n",
       "      <th>vp2</th>\n",
       "      <th>vp3</th>\n",
       "    </tr>\n",
       "    <tr>\n",
       "      <th>date</th>\n",
       "      <th></th>\n",
       "      <th></th>\n",
       "      <th></th>\n",
       "      <th></th>\n",
       "      <th></th>\n",
       "      <th></th>\n",
       "      <th></th>\n",
       "      <th></th>\n",
       "      <th></th>\n",
       "      <th></th>\n",
       "      <th></th>\n",
       "      <th></th>\n",
       "      <th></th>\n",
       "      <th></th>\n",
       "      <th></th>\n",
       "    </tr>\n",
       "  </thead>\n",
       "  <tbody>\n",
       "    <tr>\n",
       "      <th>1991-01-01</th>\n",
       "      <td>0.2</td>\n",
       "      <td>1.3</td>\n",
       "      <td>2.5</td>\n",
       "      <td>2.5</td>\n",
       "      <td>993.4</td>\n",
       "      <td>991.2</td>\n",
       "      <td>1019.4</td>\n",
       "      <td>1016.3</td>\n",
       "      <td>-1</td>\n",
       "      <td>6.4</td>\n",
       "      <td>19.9</td>\n",
       "      <td>81</td>\n",
       "      <td>43</td>\n",
       "      <td>9.0</td>\n",
       "      <td>9.0</td>\n",
       "    </tr>\n",
       "    <tr>\n",
       "      <th>1991-12-01</th>\n",
       "      <td>0.2</td>\n",
       "      <td>0.8</td>\n",
       "      <td>3.1</td>\n",
       "      <td>3.8</td>\n",
       "      <td>993.0</td>\n",
       "      <td>990.7</td>\n",
       "      <td>1018.8</td>\n",
       "      <td>1015.7</td>\n",
       "      <td>-1</td>\n",
       "      <td>8.8</td>\n",
       "      <td>22.3</td>\n",
       "      <td>86</td>\n",
       "      <td>55</td>\n",
       "      <td>11.5</td>\n",
       "      <td>12.6</td>\n",
       "    </tr>\n",
       "    <tr>\n",
       "      <th>1996-12-01</th>\n",
       "      <td>0.0</td>\n",
       "      <td>0.2</td>\n",
       "      <td>1.6</td>\n",
       "      <td>1.2</td>\n",
       "      <td>993.5</td>\n",
       "      <td>991.5</td>\n",
       "      <td>1019.4</td>\n",
       "      <td>1016.4</td>\n",
       "      <td>-1</td>\n",
       "      <td>7.2</td>\n",
       "      <td>23.0</td>\n",
       "      <td>71</td>\n",
       "      <td>41</td>\n",
       "      <td>8.3</td>\n",
       "      <td>9.2</td>\n",
       "    </tr>\n",
       "    <tr>\n",
       "      <th>1998-01-01</th>\n",
       "      <td>0.1</td>\n",
       "      <td>1.4</td>\n",
       "      <td>2.7</td>\n",
       "      <td>3.5</td>\n",
       "      <td>992.7</td>\n",
       "      <td>991.3</td>\n",
       "      <td>1018.6</td>\n",
       "      <td>1016.4</td>\n",
       "      <td>-1</td>\n",
       "      <td>7.3</td>\n",
       "      <td>19.6</td>\n",
       "      <td>83</td>\n",
       "      <td>44</td>\n",
       "      <td>9.4</td>\n",
       "      <td>8.9</td>\n",
       "    </tr>\n",
       "    <tr>\n",
       "      <th>1999-11-01</th>\n",
       "      <td>0.2</td>\n",
       "      <td>1.0</td>\n",
       "      <td>1.2</td>\n",
       "      <td>1.3</td>\n",
       "      <td>990.1</td>\n",
       "      <td>988.1</td>\n",
       "      <td>1015.3</td>\n",
       "      <td>1012.5</td>\n",
       "      <td>-1</td>\n",
       "      <td>14.4</td>\n",
       "      <td>28.2</td>\n",
       "      <td>73</td>\n",
       "      <td>43</td>\n",
       "      <td>13.5</td>\n",
       "      <td>14.1</td>\n",
       "    </tr>\n",
       "    <tr>\n",
       "      <th>2000-12-01</th>\n",
       "      <td>0.3</td>\n",
       "      <td>0.3</td>\n",
       "      <td>1.3</td>\n",
       "      <td>1.6</td>\n",
       "      <td>991.5</td>\n",
       "      <td>989.7</td>\n",
       "      <td>1017.2</td>\n",
       "      <td>1014.6</td>\n",
       "      <td>-1</td>\n",
       "      <td>8.6</td>\n",
       "      <td>23.3</td>\n",
       "      <td>77</td>\n",
       "      <td>41</td>\n",
       "      <td>9.4</td>\n",
       "      <td>9.7</td>\n",
       "    </tr>\n",
       "    <tr>\n",
       "      <th>2001-10-01</th>\n",
       "      <td>0.4</td>\n",
       "      <td>1.4</td>\n",
       "      <td>0.3</td>\n",
       "      <td>0.4</td>\n",
       "      <td>985.8</td>\n",
       "      <td>983.3</td>\n",
       "      <td>1010.3</td>\n",
       "      <td>1007.0</td>\n",
       "      <td>-1</td>\n",
       "      <td>21.4</td>\n",
       "      <td>33.2</td>\n",
       "      <td>71</td>\n",
       "      <td>44</td>\n",
       "      <td>20.3</td>\n",
       "      <td>20.1</td>\n",
       "    </tr>\n",
       "    <tr>\n",
       "      <th>2001-11-01</th>\n",
       "      <td>0.5</td>\n",
       "      <td>1.0</td>\n",
       "      <td>0.4</td>\n",
       "      <td>0.5</td>\n",
       "      <td>990.6</td>\n",
       "      <td>988.5</td>\n",
       "      <td>1015.8</td>\n",
       "      <td>1012.9</td>\n",
       "      <td>-1</td>\n",
       "      <td>14.3</td>\n",
       "      <td>28.0</td>\n",
       "      <td>76</td>\n",
       "      <td>43</td>\n",
       "      <td>13.5</td>\n",
       "      <td>13.8</td>\n",
       "    </tr>\n",
       "    <tr>\n",
       "      <th>2005-11-01</th>\n",
       "      <td>0.7</td>\n",
       "      <td>1.3</td>\n",
       "      <td>0.2</td>\n",
       "      <td>0.8</td>\n",
       "      <td>990.8</td>\n",
       "      <td>988.7</td>\n",
       "      <td>1016.1</td>\n",
       "      <td>1013.0</td>\n",
       "      <td>-1</td>\n",
       "      <td>13.8</td>\n",
       "      <td>27.1</td>\n",
       "      <td>71</td>\n",
       "      <td>40</td>\n",
       "      <td>12.2</td>\n",
       "      <td>12.4</td>\n",
       "    </tr>\n",
       "    <tr>\n",
       "      <th>2006-04-01</th>\n",
       "      <td>2.9</td>\n",
       "      <td>3.8</td>\n",
       "      <td>2.2</td>\n",
       "      <td>2.1</td>\n",
       "      <td>982.3</td>\n",
       "      <td>979.8</td>\n",
       "      <td>1006.5</td>\n",
       "      <td>1003.2</td>\n",
       "      <td>-1</td>\n",
       "      <td>22.7</td>\n",
       "      <td>35.7</td>\n",
       "      <td>39</td>\n",
       "      <td>20</td>\n",
       "      <td>13.1</td>\n",
       "      <td>10.9</td>\n",
       "    </tr>\n",
       "    <tr>\n",
       "      <th>2007-01-01</th>\n",
       "      <td>0.4</td>\n",
       "      <td>3.2</td>\n",
       "      <td>1.0</td>\n",
       "      <td>1.5</td>\n",
       "      <td>993.5</td>\n",
       "      <td>992.1</td>\n",
       "      <td>1019.5</td>\n",
       "      <td>1017.1</td>\n",
       "      <td>-1</td>\n",
       "      <td>7.5</td>\n",
       "      <td>20.0</td>\n",
       "      <td>78</td>\n",
       "      <td>41</td>\n",
       "      <td>8.9</td>\n",
       "      <td>8.9</td>\n",
       "    </tr>\n",
       "    <tr>\n",
       "      <th>2007-04-01</th>\n",
       "      <td>1.6</td>\n",
       "      <td>4.4</td>\n",
       "      <td>0.8</td>\n",
       "      <td>1.3</td>\n",
       "      <td>982.9</td>\n",
       "      <td>980.5</td>\n",
       "      <td>1007.1</td>\n",
       "      <td>1003.8</td>\n",
       "      <td>-1</td>\n",
       "      <td>23.9</td>\n",
       "      <td>37.0</td>\n",
       "      <td>46</td>\n",
       "      <td>21</td>\n",
       "      <td>16.2</td>\n",
       "      <td>12.9</td>\n",
       "    </tr>\n",
       "    <tr>\n",
       "      <th>2008-03-01</th>\n",
       "      <td>1.1</td>\n",
       "      <td>3.4</td>\n",
       "      <td>1.0</td>\n",
       "      <td>1.4</td>\n",
       "      <td>985.7</td>\n",
       "      <td>983.4</td>\n",
       "      <td>1010.4</td>\n",
       "      <td>1007.3</td>\n",
       "      <td>-1</td>\n",
       "      <td>18.4</td>\n",
       "      <td>30.9</td>\n",
       "      <td>64</td>\n",
       "      <td>36</td>\n",
       "      <td>15.3</td>\n",
       "      <td>15.0</td>\n",
       "    </tr>\n",
       "    <tr>\n",
       "      <th>2009-12-01</th>\n",
       "      <td>0.1</td>\n",
       "      <td>0.9</td>\n",
       "      <td>2.5</td>\n",
       "      <td>2.3</td>\n",
       "      <td>992.4</td>\n",
       "      <td>990.6</td>\n",
       "      <td>1018.1</td>\n",
       "      <td>1015.4</td>\n",
       "      <td>-1</td>\n",
       "      <td>9.1</td>\n",
       "      <td>22.2</td>\n",
       "      <td>79</td>\n",
       "      <td>48</td>\n",
       "      <td>10.1</td>\n",
       "      <td>11.1</td>\n",
       "    </tr>\n",
       "    <tr>\n",
       "      <th>2011-01-01</th>\n",
       "      <td>0.5</td>\n",
       "      <td>2.5</td>\n",
       "      <td>2.3</td>\n",
       "      <td>2.8</td>\n",
       "      <td>991.3</td>\n",
       "      <td>989.8</td>\n",
       "      <td>1017.3</td>\n",
       "      <td>1015.0</td>\n",
       "      <td>-1</td>\n",
       "      <td>6.9</td>\n",
       "      <td>16.6</td>\n",
       "      <td>81</td>\n",
       "      <td>54</td>\n",
       "      <td>8.9</td>\n",
       "      <td>9.6</td>\n",
       "    </tr>\n",
       "    <tr>\n",
       "      <th>2011-10-01</th>\n",
       "      <td>0.6</td>\n",
       "      <td>1.7</td>\n",
       "      <td>0.9</td>\n",
       "      <td>0.8</td>\n",
       "      <td>986.3</td>\n",
       "      <td>984.5</td>\n",
       "      <td>1010.8</td>\n",
       "      <td>1008.4</td>\n",
       "      <td>-1</td>\n",
       "      <td>21.2</td>\n",
       "      <td>32.5</td>\n",
       "      <td>71</td>\n",
       "      <td>41</td>\n",
       "      <td>20.0</td>\n",
       "      <td>18.1</td>\n",
       "    </tr>\n",
       "    <tr>\n",
       "      <th>2011-11-01</th>\n",
       "      <td>0.1</td>\n",
       "      <td>1.6</td>\n",
       "      <td>1.3</td>\n",
       "      <td>1.8</td>\n",
       "      <td>989.7</td>\n",
       "      <td>987.4</td>\n",
       "      <td>1015.1</td>\n",
       "      <td>1012.1</td>\n",
       "      <td>-1</td>\n",
       "      <td>16.0</td>\n",
       "      <td>28.0</td>\n",
       "      <td>49</td>\n",
       "      <td>49</td>\n",
       "      <td>15.4</td>\n",
       "      <td>16.5</td>\n",
       "    </tr>\n",
       "    <tr>\n",
       "      <th>2011-12-01</th>\n",
       "      <td>0.1</td>\n",
       "      <td>0.8</td>\n",
       "      <td>0.9</td>\n",
       "      <td>0.8</td>\n",
       "      <td>991.3</td>\n",
       "      <td>989.7</td>\n",
       "      <td>1017.1</td>\n",
       "      <td>1014.6</td>\n",
       "      <td>-1</td>\n",
       "      <td>8.9</td>\n",
       "      <td>22.0</td>\n",
       "      <td>81</td>\n",
       "      <td>50</td>\n",
       "      <td>9.9</td>\n",
       "      <td>11.5</td>\n",
       "    </tr>\n",
       "    <tr>\n",
       "      <th>2015-12-01</th>\n",
       "      <td>0.2</td>\n",
       "      <td>1.1</td>\n",
       "      <td>1.3</td>\n",
       "      <td>2.0</td>\n",
       "      <td>992.9</td>\n",
       "      <td>991.2</td>\n",
       "      <td>1018.7</td>\n",
       "      <td>1016.1</td>\n",
       "      <td>-1</td>\n",
       "      <td>8.4</td>\n",
       "      <td>21.8</td>\n",
       "      <td>77</td>\n",
       "      <td>48</td>\n",
       "      <td>9.9</td>\n",
       "      <td>11.3</td>\n",
       "    </tr>\n",
       "  </tbody>\n",
       "</table>\n",
       "</div>"
      ],
      "text/plain": [
       "            ff2  ff3   n2   n3    pp2    pp3    ppp2    ppp3  rrr  tntn  txtx  \\\n",
       "date                                                                            \n",
       "1991-01-01  0.2  1.3  2.5  2.5  993.4  991.2  1019.4  1016.3   -1   6.4  19.9   \n",
       "1991-12-01  0.2  0.8  3.1  3.8  993.0  990.7  1018.8  1015.7   -1   8.8  22.3   \n",
       "1996-12-01  0.0  0.2  1.6  1.2  993.5  991.5  1019.4  1016.4   -1   7.2  23.0   \n",
       "1998-01-01  0.1  1.4  2.7  3.5  992.7  991.3  1018.6  1016.4   -1   7.3  19.6   \n",
       "1999-11-01  0.2  1.0  1.2  1.3  990.1  988.1  1015.3  1012.5   -1  14.4  28.2   \n",
       "2000-12-01  0.3  0.3  1.3  1.6  991.5  989.7  1017.2  1014.6   -1   8.6  23.3   \n",
       "2001-10-01  0.4  1.4  0.3  0.4  985.8  983.3  1010.3  1007.0   -1  21.4  33.2   \n",
       "2001-11-01  0.5  1.0  0.4  0.5  990.6  988.5  1015.8  1012.9   -1  14.3  28.0   \n",
       "2005-11-01  0.7  1.3  0.2  0.8  990.8  988.7  1016.1  1013.0   -1  13.8  27.1   \n",
       "2006-04-01  2.9  3.8  2.2  2.1  982.3  979.8  1006.5  1003.2   -1  22.7  35.7   \n",
       "2007-01-01  0.4  3.2  1.0  1.5  993.5  992.1  1019.5  1017.1   -1   7.5  20.0   \n",
       "2007-04-01  1.6  4.4  0.8  1.3  982.9  980.5  1007.1  1003.8   -1  23.9  37.0   \n",
       "2008-03-01  1.1  3.4  1.0  1.4  985.7  983.4  1010.4  1007.3   -1  18.4  30.9   \n",
       "2009-12-01  0.1  0.9  2.5  2.3  992.4  990.6  1018.1  1015.4   -1   9.1  22.2   \n",
       "2011-01-01  0.5  2.5  2.3  2.8  991.3  989.8  1017.3  1015.0   -1   6.9  16.6   \n",
       "2011-10-01  0.6  1.7  0.9  0.8  986.3  984.5  1010.8  1008.4   -1  21.2  32.5   \n",
       "2011-11-01  0.1  1.6  1.3  1.8  989.7  987.4  1015.1  1012.1   -1  16.0  28.0   \n",
       "2011-12-01  0.1  0.8  0.9  0.8  991.3  989.7  1017.1  1014.6   -1   8.9  22.0   \n",
       "2015-12-01  0.2  1.1  1.3  2.0  992.9  991.2  1018.7  1016.1   -1   8.4  21.8   \n",
       "\n",
       "            uu2  uu3   vp2   vp3  \n",
       "date                              \n",
       "1991-01-01   81   43   9.0   9.0  \n",
       "1991-12-01   86   55  11.5  12.6  \n",
       "1996-12-01   71   41   8.3   9.2  \n",
       "1998-01-01   83   44   9.4   8.9  \n",
       "1999-11-01   73   43  13.5  14.1  \n",
       "2000-12-01   77   41   9.4   9.7  \n",
       "2001-10-01   71   44  20.3  20.1  \n",
       "2001-11-01   76   43  13.5  13.8  \n",
       "2005-11-01   71   40  12.2  12.4  \n",
       "2006-04-01   39   20  13.1  10.9  \n",
       "2007-01-01   78   41   8.9   8.9  \n",
       "2007-04-01   46   21  16.2  12.9  \n",
       "2008-03-01   64   36  15.3  15.0  \n",
       "2009-12-01   79   48  10.1  11.1  \n",
       "2011-01-01   81   54   8.9   9.6  \n",
       "2011-10-01   71   41  20.0  18.1  \n",
       "2011-11-01   49   49  15.4  16.5  \n",
       "2011-12-01   81   50   9.9  11.5  \n",
       "2015-12-01   77   48   9.9  11.3  "
      ]
     },
     "execution_count": 25,
     "metadata": {},
     "output_type": "execute_result"
    }
   ],
   "source": [
    "dat[(dat.rrr<0)]"
   ]
  },
  {
   "cell_type": "code",
   "execution_count": 26,
   "metadata": {
    "collapsed": false
   },
   "outputs": [],
   "source": [
    "dat.ix[dat.rrr<0,'rrr']=np.nan"
   ]
  },
  {
   "cell_type": "code",
   "execution_count": 27,
   "metadata": {
    "collapsed": false
   },
   "outputs": [],
   "source": [
    "dat.ix[dat.rrr.isnull(),'rrr']=dat.rrr.mean()"
   ]
  },
  {
   "cell_type": "code",
   "execution_count": 28,
   "metadata": {
    "collapsed": false
   },
   "outputs": [
    {
     "data": {
      "text/html": [
       "<div>\n",
       "<table border=\"1\" class=\"dataframe\">\n",
       "  <thead>\n",
       "    <tr style=\"text-align: right;\">\n",
       "      <th></th>\n",
       "      <th>ff2</th>\n",
       "      <th>ff3</th>\n",
       "      <th>n2</th>\n",
       "      <th>n3</th>\n",
       "      <th>pp2</th>\n",
       "      <th>pp3</th>\n",
       "      <th>ppp2</th>\n",
       "      <th>ppp3</th>\n",
       "      <th>rrr</th>\n",
       "      <th>tntn</th>\n",
       "      <th>txtx</th>\n",
       "      <th>uu2</th>\n",
       "      <th>uu3</th>\n",
       "      <th>vp2</th>\n",
       "      <th>vp3</th>\n",
       "    </tr>\n",
       "    <tr>\n",
       "      <th>date</th>\n",
       "      <th></th>\n",
       "      <th></th>\n",
       "      <th></th>\n",
       "      <th></th>\n",
       "      <th></th>\n",
       "      <th></th>\n",
       "      <th></th>\n",
       "      <th></th>\n",
       "      <th></th>\n",
       "      <th></th>\n",
       "      <th></th>\n",
       "      <th></th>\n",
       "      <th></th>\n",
       "      <th></th>\n",
       "      <th></th>\n",
       "    </tr>\n",
       "  </thead>\n",
       "  <tbody>\n",
       "  </tbody>\n",
       "</table>\n",
       "</div>"
      ],
      "text/plain": [
       "Empty DataFrame\n",
       "Columns: [ff2, ff3, n2, n3, pp2, pp3, ppp2, ppp3, rrr, tntn, txtx, uu2, uu3, vp2, vp3]\n",
       "Index: []"
      ]
     },
     "execution_count": 28,
     "metadata": {},
     "output_type": "execute_result"
    }
   ],
   "source": [
    "dat[dat.rrr.isnull()]"
   ]
  },
  {
   "cell_type": "code",
   "execution_count": 29,
   "metadata": {
    "collapsed": false
   },
   "outputs": [
    {
     "data": {
      "text/html": [
       "<div>\n",
       "<table border=\"1\" class=\"dataframe\">\n",
       "  <thead>\n",
       "    <tr style=\"text-align: right;\">\n",
       "      <th></th>\n",
       "      <th>ff2</th>\n",
       "      <th>ff3</th>\n",
       "      <th>n2</th>\n",
       "      <th>n3</th>\n",
       "      <th>pp2</th>\n",
       "      <th>pp3</th>\n",
       "      <th>ppp2</th>\n",
       "      <th>ppp3</th>\n",
       "      <th>rrr</th>\n",
       "      <th>tntn</th>\n",
       "      <th>txtx</th>\n",
       "      <th>uu2</th>\n",
       "      <th>uu3</th>\n",
       "      <th>vp2</th>\n",
       "      <th>vp3</th>\n",
       "    </tr>\n",
       "    <tr>\n",
       "      <th>date</th>\n",
       "      <th></th>\n",
       "      <th></th>\n",
       "      <th></th>\n",
       "      <th></th>\n",
       "      <th></th>\n",
       "      <th></th>\n",
       "      <th></th>\n",
       "      <th></th>\n",
       "      <th></th>\n",
       "      <th></th>\n",
       "      <th></th>\n",
       "      <th></th>\n",
       "      <th></th>\n",
       "      <th></th>\n",
       "      <th></th>\n",
       "    </tr>\n",
       "  </thead>\n",
       "  <tbody>\n",
       "  </tbody>\n",
       "</table>\n",
       "</div>"
      ],
      "text/plain": [
       "Empty DataFrame\n",
       "Columns: [ff2, ff3, n2, n3, pp2, pp3, ppp2, ppp3, rrr, tntn, txtx, uu2, uu3, vp2, vp3]\n",
       "Index: []"
      ]
     },
     "execution_count": 29,
     "metadata": {},
     "output_type": "execute_result"
    }
   ],
   "source": [
    "dat[(dat.tntn<0)]"
   ]
  },
  {
   "cell_type": "code",
   "execution_count": 30,
   "metadata": {
    "collapsed": false
   },
   "outputs": [
    {
     "data": {
      "text/html": [
       "<div>\n",
       "<table border=\"1\" class=\"dataframe\">\n",
       "  <thead>\n",
       "    <tr style=\"text-align: right;\">\n",
       "      <th></th>\n",
       "      <th>ff2</th>\n",
       "      <th>ff3</th>\n",
       "      <th>n2</th>\n",
       "      <th>n3</th>\n",
       "      <th>pp2</th>\n",
       "      <th>pp3</th>\n",
       "      <th>ppp2</th>\n",
       "      <th>ppp3</th>\n",
       "      <th>rrr</th>\n",
       "      <th>tntn</th>\n",
       "      <th>txtx</th>\n",
       "      <th>uu2</th>\n",
       "      <th>uu3</th>\n",
       "      <th>vp2</th>\n",
       "      <th>vp3</th>\n",
       "    </tr>\n",
       "    <tr>\n",
       "      <th>date</th>\n",
       "      <th></th>\n",
       "      <th></th>\n",
       "      <th></th>\n",
       "      <th></th>\n",
       "      <th></th>\n",
       "      <th></th>\n",
       "      <th></th>\n",
       "      <th></th>\n",
       "      <th></th>\n",
       "      <th></th>\n",
       "      <th></th>\n",
       "      <th></th>\n",
       "      <th></th>\n",
       "      <th></th>\n",
       "      <th></th>\n",
       "    </tr>\n",
       "  </thead>\n",
       "  <tbody>\n",
       "  </tbody>\n",
       "</table>\n",
       "</div>"
      ],
      "text/plain": [
       "Empty DataFrame\n",
       "Columns: [ff2, ff3, n2, n3, pp2, pp3, ppp2, ppp3, rrr, tntn, txtx, uu2, uu3, vp2, vp3]\n",
       "Index: []"
      ]
     },
     "execution_count": 30,
     "metadata": {},
     "output_type": "execute_result"
    }
   ],
   "source": [
    "dat[(dat.txtx<0)]"
   ]
  },
  {
   "cell_type": "code",
   "execution_count": 31,
   "metadata": {
    "collapsed": false
   },
   "outputs": [
    {
     "data": {
      "text/html": [
       "<div>\n",
       "<table border=\"1\" class=\"dataframe\">\n",
       "  <thead>\n",
       "    <tr style=\"text-align: right;\">\n",
       "      <th></th>\n",
       "      <th>ff2</th>\n",
       "      <th>ff3</th>\n",
       "      <th>n2</th>\n",
       "      <th>n3</th>\n",
       "      <th>pp2</th>\n",
       "      <th>pp3</th>\n",
       "      <th>ppp2</th>\n",
       "      <th>ppp3</th>\n",
       "      <th>rrr</th>\n",
       "      <th>tntn</th>\n",
       "      <th>txtx</th>\n",
       "      <th>uu2</th>\n",
       "      <th>uu3</th>\n",
       "      <th>vp2</th>\n",
       "      <th>vp3</th>\n",
       "    </tr>\n",
       "    <tr>\n",
       "      <th>date</th>\n",
       "      <th></th>\n",
       "      <th></th>\n",
       "      <th></th>\n",
       "      <th></th>\n",
       "      <th></th>\n",
       "      <th></th>\n",
       "      <th></th>\n",
       "      <th></th>\n",
       "      <th></th>\n",
       "      <th></th>\n",
       "      <th></th>\n",
       "      <th></th>\n",
       "      <th></th>\n",
       "      <th></th>\n",
       "      <th></th>\n",
       "    </tr>\n",
       "  </thead>\n",
       "  <tbody>\n",
       "  </tbody>\n",
       "</table>\n",
       "</div>"
      ],
      "text/plain": [
       "Empty DataFrame\n",
       "Columns: [ff2, ff3, n2, n3, pp2, pp3, ppp2, ppp3, rrr, tntn, txtx, uu2, uu3, vp2, vp3]\n",
       "Index: []"
      ]
     },
     "execution_count": 31,
     "metadata": {},
     "output_type": "execute_result"
    }
   ],
   "source": [
    "dat[(dat.uu2<0)]"
   ]
  },
  {
   "cell_type": "code",
   "execution_count": 32,
   "metadata": {
    "collapsed": false
   },
   "outputs": [
    {
     "data": {
      "text/html": [
       "<div>\n",
       "<table border=\"1\" class=\"dataframe\">\n",
       "  <thead>\n",
       "    <tr style=\"text-align: right;\">\n",
       "      <th></th>\n",
       "      <th>ff2</th>\n",
       "      <th>ff3</th>\n",
       "      <th>n2</th>\n",
       "      <th>n3</th>\n",
       "      <th>pp2</th>\n",
       "      <th>pp3</th>\n",
       "      <th>ppp2</th>\n",
       "      <th>ppp3</th>\n",
       "      <th>rrr</th>\n",
       "      <th>tntn</th>\n",
       "      <th>txtx</th>\n",
       "      <th>uu2</th>\n",
       "      <th>uu3</th>\n",
       "      <th>vp2</th>\n",
       "      <th>vp3</th>\n",
       "    </tr>\n",
       "    <tr>\n",
       "      <th>date</th>\n",
       "      <th></th>\n",
       "      <th></th>\n",
       "      <th></th>\n",
       "      <th></th>\n",
       "      <th></th>\n",
       "      <th></th>\n",
       "      <th></th>\n",
       "      <th></th>\n",
       "      <th></th>\n",
       "      <th></th>\n",
       "      <th></th>\n",
       "      <th></th>\n",
       "      <th></th>\n",
       "      <th></th>\n",
       "      <th></th>\n",
       "    </tr>\n",
       "  </thead>\n",
       "  <tbody>\n",
       "  </tbody>\n",
       "</table>\n",
       "</div>"
      ],
      "text/plain": [
       "Empty DataFrame\n",
       "Columns: [ff2, ff3, n2, n3, pp2, pp3, ppp2, ppp3, rrr, tntn, txtx, uu2, uu3, vp2, vp3]\n",
       "Index: []"
      ]
     },
     "execution_count": 32,
     "metadata": {},
     "output_type": "execute_result"
    }
   ],
   "source": [
    "dat[(dat.uu3<0)]"
   ]
  },
  {
   "cell_type": "code",
   "execution_count": 33,
   "metadata": {
    "collapsed": false
   },
   "outputs": [
    {
     "data": {
      "text/html": [
       "<div>\n",
       "<table border=\"1\" class=\"dataframe\">\n",
       "  <thead>\n",
       "    <tr style=\"text-align: right;\">\n",
       "      <th></th>\n",
       "      <th>ff2</th>\n",
       "      <th>ff3</th>\n",
       "      <th>n2</th>\n",
       "      <th>n3</th>\n",
       "      <th>pp2</th>\n",
       "      <th>pp3</th>\n",
       "      <th>ppp2</th>\n",
       "      <th>ppp3</th>\n",
       "      <th>rrr</th>\n",
       "      <th>tntn</th>\n",
       "      <th>txtx</th>\n",
       "      <th>uu2</th>\n",
       "      <th>uu3</th>\n",
       "      <th>vp2</th>\n",
       "      <th>vp3</th>\n",
       "    </tr>\n",
       "    <tr>\n",
       "      <th>date</th>\n",
       "      <th></th>\n",
       "      <th></th>\n",
       "      <th></th>\n",
       "      <th></th>\n",
       "      <th></th>\n",
       "      <th></th>\n",
       "      <th></th>\n",
       "      <th></th>\n",
       "      <th></th>\n",
       "      <th></th>\n",
       "      <th></th>\n",
       "      <th></th>\n",
       "      <th></th>\n",
       "      <th></th>\n",
       "      <th></th>\n",
       "    </tr>\n",
       "  </thead>\n",
       "  <tbody>\n",
       "  </tbody>\n",
       "</table>\n",
       "</div>"
      ],
      "text/plain": [
       "Empty DataFrame\n",
       "Columns: [ff2, ff3, n2, n3, pp2, pp3, ppp2, ppp3, rrr, tntn, txtx, uu2, uu3, vp2, vp3]\n",
       "Index: []"
      ]
     },
     "execution_count": 33,
     "metadata": {},
     "output_type": "execute_result"
    }
   ],
   "source": [
    "dat[(dat.vp2<0)]"
   ]
  },
  {
   "cell_type": "code",
   "execution_count": 34,
   "metadata": {
    "collapsed": false
   },
   "outputs": [
    {
     "data": {
      "text/html": [
       "<div>\n",
       "<table border=\"1\" class=\"dataframe\">\n",
       "  <thead>\n",
       "    <tr style=\"text-align: right;\">\n",
       "      <th></th>\n",
       "      <th>ff2</th>\n",
       "      <th>ff3</th>\n",
       "      <th>n2</th>\n",
       "      <th>n3</th>\n",
       "      <th>pp2</th>\n",
       "      <th>pp3</th>\n",
       "      <th>ppp2</th>\n",
       "      <th>ppp3</th>\n",
       "      <th>rrr</th>\n",
       "      <th>tntn</th>\n",
       "      <th>txtx</th>\n",
       "      <th>uu2</th>\n",
       "      <th>uu3</th>\n",
       "      <th>vp2</th>\n",
       "      <th>vp3</th>\n",
       "    </tr>\n",
       "    <tr>\n",
       "      <th>date</th>\n",
       "      <th></th>\n",
       "      <th></th>\n",
       "      <th></th>\n",
       "      <th></th>\n",
       "      <th></th>\n",
       "      <th></th>\n",
       "      <th></th>\n",
       "      <th></th>\n",
       "      <th></th>\n",
       "      <th></th>\n",
       "      <th></th>\n",
       "      <th></th>\n",
       "      <th></th>\n",
       "      <th></th>\n",
       "      <th></th>\n",
       "    </tr>\n",
       "  </thead>\n",
       "  <tbody>\n",
       "  </tbody>\n",
       "</table>\n",
       "</div>"
      ],
      "text/plain": [
       "Empty DataFrame\n",
       "Columns: [ff2, ff3, n2, n3, pp2, pp3, ppp2, ppp3, rrr, tntn, txtx, uu2, uu3, vp2, vp3]\n",
       "Index: []"
      ]
     },
     "execution_count": 34,
     "metadata": {},
     "output_type": "execute_result"
    }
   ],
   "source": [
    "dat[(dat.vp3<0)]"
   ]
  },
  {
   "cell_type": "code",
   "execution_count": 35,
   "metadata": {
    "collapsed": false
   },
   "outputs": [
    {
     "data": {
      "text/html": [
       "<div>\n",
       "<table border=\"1\" class=\"dataframe\">\n",
       "  <thead>\n",
       "    <tr style=\"text-align: right;\">\n",
       "      <th></th>\n",
       "      <th>ff2</th>\n",
       "      <th>ff3</th>\n",
       "      <th>n2</th>\n",
       "      <th>n3</th>\n",
       "      <th>pp2</th>\n",
       "      <th>pp3</th>\n",
       "      <th>ppp2</th>\n",
       "      <th>ppp3</th>\n",
       "      <th>rrr</th>\n",
       "      <th>tntn</th>\n",
       "      <th>txtx</th>\n",
       "      <th>uu2</th>\n",
       "      <th>uu3</th>\n",
       "      <th>vp2</th>\n",
       "      <th>vp3</th>\n",
       "    </tr>\n",
       "    <tr>\n",
       "      <th>date</th>\n",
       "      <th></th>\n",
       "      <th></th>\n",
       "      <th></th>\n",
       "      <th></th>\n",
       "      <th></th>\n",
       "      <th></th>\n",
       "      <th></th>\n",
       "      <th></th>\n",
       "      <th></th>\n",
       "      <th></th>\n",
       "      <th></th>\n",
       "      <th></th>\n",
       "      <th></th>\n",
       "      <th></th>\n",
       "      <th></th>\n",
       "    </tr>\n",
       "  </thead>\n",
       "  <tbody>\n",
       "    <tr>\n",
       "      <th>1986-01-01</th>\n",
       "      <td>0.3</td>\n",
       "      <td>0.6</td>\n",
       "      <td>1.4</td>\n",
       "      <td>2.1</td>\n",
       "      <td>993.3</td>\n",
       "      <td>991.5</td>\n",
       "      <td>1019.5</td>\n",
       "      <td>1016.6</td>\n",
       "      <td>5.3</td>\n",
       "      <td>5.6</td>\n",
       "      <td>20.5</td>\n",
       "      <td>89</td>\n",
       "      <td>44</td>\n",
       "      <td>8.7</td>\n",
       "      <td>9.3</td>\n",
       "    </tr>\n",
       "    <tr>\n",
       "      <th>1986-02-01</th>\n",
       "      <td>0.2</td>\n",
       "      <td>3.6</td>\n",
       "      <td>2.7</td>\n",
       "      <td>3.1</td>\n",
       "      <td>991.0</td>\n",
       "      <td>989.1</td>\n",
       "      <td>1016.7</td>\n",
       "      <td>1013.9</td>\n",
       "      <td>43.0</td>\n",
       "      <td>9.0</td>\n",
       "      <td>22.4</td>\n",
       "      <td>82</td>\n",
       "      <td>44</td>\n",
       "      <td>10.7</td>\n",
       "      <td>10.5</td>\n",
       "    </tr>\n",
       "    <tr>\n",
       "      <th>1986-03-01</th>\n",
       "      <td>1.3</td>\n",
       "      <td>3.5</td>\n",
       "      <td>3.1</td>\n",
       "      <td>3.5</td>\n",
       "      <td>987.4</td>\n",
       "      <td>985.3</td>\n",
       "      <td>1012.5</td>\n",
       "      <td>1009.5</td>\n",
       "      <td>22.6</td>\n",
       "      <td>13.9</td>\n",
       "      <td>27.1</td>\n",
       "      <td>72</td>\n",
       "      <td>39</td>\n",
       "      <td>13.4</td>\n",
       "      <td>12.8</td>\n",
       "    </tr>\n",
       "    <tr>\n",
       "      <th>1986-04-01</th>\n",
       "      <td>2.2</td>\n",
       "      <td>4.3</td>\n",
       "      <td>2.6</td>\n",
       "      <td>3.0</td>\n",
       "      <td>982.9</td>\n",
       "      <td>980.7</td>\n",
       "      <td>1007.3</td>\n",
       "      <td>1004.4</td>\n",
       "      <td>14.8</td>\n",
       "      <td>18.9</td>\n",
       "      <td>34.0</td>\n",
       "      <td>51</td>\n",
       "      <td>27</td>\n",
       "      <td>14.4</td>\n",
       "      <td>13.2</td>\n",
       "    </tr>\n",
       "    <tr>\n",
       "      <th>1986-05-01</th>\n",
       "      <td>1.7</td>\n",
       "      <td>3.9</td>\n",
       "      <td>2.1</td>\n",
       "      <td>2.6</td>\n",
       "      <td>979.6</td>\n",
       "      <td>976.9</td>\n",
       "      <td>1003.7</td>\n",
       "      <td>1000.2</td>\n",
       "      <td>20.5</td>\n",
       "      <td>22.0</td>\n",
       "      <td>37.3</td>\n",
       "      <td>49</td>\n",
       "      <td>27</td>\n",
       "      <td>17.2</td>\n",
       "      <td>14.8</td>\n",
       "    </tr>\n",
       "  </tbody>\n",
       "</table>\n",
       "</div>"
      ],
      "text/plain": [
       "            ff2  ff3   n2   n3    pp2    pp3    ppp2    ppp3   rrr  tntn  \\\n",
       "date                                                                       \n",
       "1986-01-01  0.3  0.6  1.4  2.1  993.3  991.5  1019.5  1016.6   5.3   5.6   \n",
       "1986-02-01  0.2  3.6  2.7  3.1  991.0  989.1  1016.7  1013.9  43.0   9.0   \n",
       "1986-03-01  1.3  3.5  3.1  3.5  987.4  985.3  1012.5  1009.5  22.6  13.9   \n",
       "1986-04-01  2.2  4.3  2.6  3.0  982.9  980.7  1007.3  1004.4  14.8  18.9   \n",
       "1986-05-01  1.7  3.9  2.1  2.6  979.6  976.9  1003.7  1000.2  20.5  22.0   \n",
       "\n",
       "            txtx  uu2  uu3   vp2   vp3  \n",
       "date                                    \n",
       "1986-01-01  20.5   89   44   8.7   9.3  \n",
       "1986-02-01  22.4   82   44  10.7  10.5  \n",
       "1986-03-01  27.1   72   39  13.4  12.8  \n",
       "1986-04-01  34.0   51   27  14.4  13.2  \n",
       "1986-05-01  37.3   49   27  17.2  14.8  "
      ]
     },
     "execution_count": 35,
     "metadata": {},
     "output_type": "execute_result"
    }
   ],
   "source": [
    "dat.head()"
   ]
  },
  {
   "cell_type": "markdown",
   "metadata": {},
   "source": [
    "### Column Names\n",
    "<br>\n",
    "Now we will replace the column names with the original names.where\n",
    "<br>\n",
    "ff2 = Wind Speed At Morning \n",
    "<br>\n",
    "ff3 = Wind Speed At Evening\n",
    "<br>\n",
    "n2 = Cloud At Morning\n",
    "<br>\n",
    "n3 = Cloud At Evening\n",
    "<br>\n",
    "pp2 = Atmospheric Pressure At Station At Morning\n",
    "<br>\n",
    "pp3 = Atmospheric Pressure At Station At Evening\n",
    "<br>\n",
    "ppp2 = Atmospheric Pressure At Sea At Morning\n",
    "<br>\n",
    "ppp3 = Atmospheric Pressure At Sea At Evening\n",
    "<br>\n",
    "rrr = Monthly Total Rain\n",
    "<br>\n",
    "tntn = Mean Min Temprature\n",
    "<br>\n",
    "txtx = Mean Max Temprature\n",
    "<br>\n",
    "uu2 = Humidity Morning\n",
    "<br>\n",
    "uu3 = Humidity Evening\n",
    "<br>\n",
    "vp2 = Vapour Pressure Morning\n",
    "<br>\n",
    "Vp3 = Vapour Pressure Evening\n",
    "<br>"
   ]
  },
  {
   "cell_type": "code",
   "execution_count": 36,
   "metadata": {
    "collapsed": false
   },
   "outputs": [],
   "source": [
    "dat.rename(columns={'ff2':'windSpeedM','ff3':'windSpeedE','n2':'cloudM','n3':'cloudE',\\\n",
    "                    'pp2':'atmPressureStationM','pp3':'atmPressureStationE','ppp2':'atmPressureSeaM',\\\n",
    "                    'ppp3':'atmPressureSeaE','rrr':'monthlyTotalRain','tntn':'meanMinTemp',\\\n",
    "                    'txtx':'meanMaxTemp','uu2':'humidityM','uu3':'humidityE','vp2':'vapourPressureM',\\\n",
    "                    'vp3':'vapourPressureE'},inplace=True)"
   ]
  },
  {
   "cell_type": "code",
   "execution_count": 37,
   "metadata": {
    "collapsed": false
   },
   "outputs": [
    {
     "data": {
      "text/html": [
       "<div>\n",
       "<table border=\"1\" class=\"dataframe\">\n",
       "  <thead>\n",
       "    <tr style=\"text-align: right;\">\n",
       "      <th></th>\n",
       "      <th>windSpeedM</th>\n",
       "      <th>windSpeedE</th>\n",
       "      <th>cloudM</th>\n",
       "      <th>cloudE</th>\n",
       "      <th>atmPressureStationM</th>\n",
       "      <th>atmPressureStationE</th>\n",
       "      <th>atmPressureSeaM</th>\n",
       "      <th>atmPressureSeaE</th>\n",
       "      <th>monthlyTotalRain</th>\n",
       "      <th>meanMinTemp</th>\n",
       "      <th>meanMaxTemp</th>\n",
       "      <th>humidityM</th>\n",
       "      <th>humidityE</th>\n",
       "      <th>vapourPressureM</th>\n",
       "      <th>vapourPressureE</th>\n",
       "    </tr>\n",
       "    <tr>\n",
       "      <th>date</th>\n",
       "      <th></th>\n",
       "      <th></th>\n",
       "      <th></th>\n",
       "      <th></th>\n",
       "      <th></th>\n",
       "      <th></th>\n",
       "      <th></th>\n",
       "      <th></th>\n",
       "      <th></th>\n",
       "      <th></th>\n",
       "      <th></th>\n",
       "      <th></th>\n",
       "      <th></th>\n",
       "      <th></th>\n",
       "      <th></th>\n",
       "    </tr>\n",
       "  </thead>\n",
       "  <tbody>\n",
       "    <tr>\n",
       "      <th>1986-01-01</th>\n",
       "      <td>0.3</td>\n",
       "      <td>0.6</td>\n",
       "      <td>1.4</td>\n",
       "      <td>2.1</td>\n",
       "      <td>993.3</td>\n",
       "      <td>991.5</td>\n",
       "      <td>1019.5</td>\n",
       "      <td>1016.6</td>\n",
       "      <td>5.3</td>\n",
       "      <td>5.6</td>\n",
       "      <td>20.5</td>\n",
       "      <td>89</td>\n",
       "      <td>44</td>\n",
       "      <td>8.7</td>\n",
       "      <td>9.3</td>\n",
       "    </tr>\n",
       "    <tr>\n",
       "      <th>1986-02-01</th>\n",
       "      <td>0.2</td>\n",
       "      <td>3.6</td>\n",
       "      <td>2.7</td>\n",
       "      <td>3.1</td>\n",
       "      <td>991.0</td>\n",
       "      <td>989.1</td>\n",
       "      <td>1016.7</td>\n",
       "      <td>1013.9</td>\n",
       "      <td>43.0</td>\n",
       "      <td>9.0</td>\n",
       "      <td>22.4</td>\n",
       "      <td>82</td>\n",
       "      <td>44</td>\n",
       "      <td>10.7</td>\n",
       "      <td>10.5</td>\n",
       "    </tr>\n",
       "    <tr>\n",
       "      <th>1986-03-01</th>\n",
       "      <td>1.3</td>\n",
       "      <td>3.5</td>\n",
       "      <td>3.1</td>\n",
       "      <td>3.5</td>\n",
       "      <td>987.4</td>\n",
       "      <td>985.3</td>\n",
       "      <td>1012.5</td>\n",
       "      <td>1009.5</td>\n",
       "      <td>22.6</td>\n",
       "      <td>13.9</td>\n",
       "      <td>27.1</td>\n",
       "      <td>72</td>\n",
       "      <td>39</td>\n",
       "      <td>13.4</td>\n",
       "      <td>12.8</td>\n",
       "    </tr>\n",
       "    <tr>\n",
       "      <th>1986-04-01</th>\n",
       "      <td>2.2</td>\n",
       "      <td>4.3</td>\n",
       "      <td>2.6</td>\n",
       "      <td>3.0</td>\n",
       "      <td>982.9</td>\n",
       "      <td>980.7</td>\n",
       "      <td>1007.3</td>\n",
       "      <td>1004.4</td>\n",
       "      <td>14.8</td>\n",
       "      <td>18.9</td>\n",
       "      <td>34.0</td>\n",
       "      <td>51</td>\n",
       "      <td>27</td>\n",
       "      <td>14.4</td>\n",
       "      <td>13.2</td>\n",
       "    </tr>\n",
       "    <tr>\n",
       "      <th>1986-05-01</th>\n",
       "      <td>1.7</td>\n",
       "      <td>3.9</td>\n",
       "      <td>2.1</td>\n",
       "      <td>2.6</td>\n",
       "      <td>979.6</td>\n",
       "      <td>976.9</td>\n",
       "      <td>1003.7</td>\n",
       "      <td>1000.2</td>\n",
       "      <td>20.5</td>\n",
       "      <td>22.0</td>\n",
       "      <td>37.3</td>\n",
       "      <td>49</td>\n",
       "      <td>27</td>\n",
       "      <td>17.2</td>\n",
       "      <td>14.8</td>\n",
       "    </tr>\n",
       "  </tbody>\n",
       "</table>\n",
       "</div>"
      ],
      "text/plain": [
       "            windSpeedM  windSpeedE  cloudM  cloudE  atmPressureStationM  \\\n",
       "date                                                                      \n",
       "1986-01-01         0.3         0.6     1.4     2.1                993.3   \n",
       "1986-02-01         0.2         3.6     2.7     3.1                991.0   \n",
       "1986-03-01         1.3         3.5     3.1     3.5                987.4   \n",
       "1986-04-01         2.2         4.3     2.6     3.0                982.9   \n",
       "1986-05-01         1.7         3.9     2.1     2.6                979.6   \n",
       "\n",
       "            atmPressureStationE  atmPressureSeaM  atmPressureSeaE  \\\n",
       "date                                                                \n",
       "1986-01-01                991.5           1019.5           1016.6   \n",
       "1986-02-01                989.1           1016.7           1013.9   \n",
       "1986-03-01                985.3           1012.5           1009.5   \n",
       "1986-04-01                980.7           1007.3           1004.4   \n",
       "1986-05-01                976.9           1003.7           1000.2   \n",
       "\n",
       "            monthlyTotalRain  meanMinTemp  meanMaxTemp  humidityM  humidityE  \\\n",
       "date                                                                           \n",
       "1986-01-01               5.3          5.6         20.5         89         44   \n",
       "1986-02-01              43.0          9.0         22.4         82         44   \n",
       "1986-03-01              22.6         13.9         27.1         72         39   \n",
       "1986-04-01              14.8         18.9         34.0         51         27   \n",
       "1986-05-01              20.5         22.0         37.3         49         27   \n",
       "\n",
       "            vapourPressureM  vapourPressureE  \n",
       "date                                          \n",
       "1986-01-01              8.7              9.3  \n",
       "1986-02-01             10.7             10.5  \n",
       "1986-03-01             13.4             12.8  \n",
       "1986-04-01             14.4             13.2  \n",
       "1986-05-01             17.2             14.8  "
      ]
     },
     "execution_count": 37,
     "metadata": {},
     "output_type": "execute_result"
    }
   ],
   "source": [
    "dat.head()"
   ]
  },
  {
   "cell_type": "markdown",
   "metadata": {},
   "source": [
    "I am going to transform the variables for morning and evening to only single variable. We can also say this feature engineering."
   ]
  },
  {
   "cell_type": "code",
   "execution_count": 38,
   "metadata": {
    "collapsed": false
   },
   "outputs": [],
   "source": [
    "dat['windSpeed']=dat[['windSpeedM','windSpeedE']].apply(lambda x: np.mean(x),axis=1)"
   ]
  },
  {
   "cell_type": "code",
   "execution_count": 39,
   "metadata": {
    "collapsed": true
   },
   "outputs": [],
   "source": [
    "dat['cloud'] = dat[['cloudM','cloudE']].apply(lambda x: np.mean(x),axis=1)"
   ]
  },
  {
   "cell_type": "code",
   "execution_count": 40,
   "metadata": {
    "collapsed": true
   },
   "outputs": [],
   "source": [
    "dat['atmPressureStation'] = dat[['atmPressureStationM','atmPressureStationE']].apply(lambda x: np.mean(x),axis=1)"
   ]
  },
  {
   "cell_type": "code",
   "execution_count": 41,
   "metadata": {
    "collapsed": true
   },
   "outputs": [],
   "source": [
    "dat['atmPressureSea'] = dat[['atmPressureSeaM','atmPressureSeaE']].apply(lambda x: np.mean(x),axis=1)"
   ]
  },
  {
   "cell_type": "code",
   "execution_count": 42,
   "metadata": {
    "collapsed": false
   },
   "outputs": [],
   "source": [
    "dat['humidity'] = dat[['humidityM','humidityE']].apply(lambda x: np.mean(x),axis=1)"
   ]
  },
  {
   "cell_type": "code",
   "execution_count": 43,
   "metadata": {
    "collapsed": true
   },
   "outputs": [],
   "source": [
    "dat['vapourPressure'] = dat[['vapourPressureM','vapourPressureE']].apply(lambda x: np.mean(x),axis=1)"
   ]
  },
  {
   "cell_type": "code",
   "execution_count": 44,
   "metadata": {
    "collapsed": false
   },
   "outputs": [],
   "source": [
    "dat.drop(['windSpeedM','windSpeedE','cloudM','cloudE','atmPressureStationM','atmPressureStationE','atmPressureSeaM',\\\n",
    "          'atmPressureSeaE','humidityM','humidityE','vapourPressureM','vapourPressureE'],axis=1,inplace=True)"
   ]
  },
  {
   "cell_type": "code",
   "execution_count": 45,
   "metadata": {
    "collapsed": false
   },
   "outputs": [
    {
     "data": {
      "text/html": [
       "<div>\n",
       "<table border=\"1\" class=\"dataframe\">\n",
       "  <thead>\n",
       "    <tr style=\"text-align: right;\">\n",
       "      <th></th>\n",
       "      <th>monthlyTotalRain</th>\n",
       "      <th>meanMinTemp</th>\n",
       "      <th>meanMaxTemp</th>\n",
       "      <th>windSpeed</th>\n",
       "      <th>cloud</th>\n",
       "      <th>atmPressureStation</th>\n",
       "      <th>atmPressureSea</th>\n",
       "      <th>humidity</th>\n",
       "      <th>vapourPressure</th>\n",
       "    </tr>\n",
       "    <tr>\n",
       "      <th>date</th>\n",
       "      <th></th>\n",
       "      <th></th>\n",
       "      <th></th>\n",
       "      <th></th>\n",
       "      <th></th>\n",
       "      <th></th>\n",
       "      <th></th>\n",
       "      <th></th>\n",
       "      <th></th>\n",
       "    </tr>\n",
       "  </thead>\n",
       "  <tbody>\n",
       "    <tr>\n",
       "      <th>1986-01-01</th>\n",
       "      <td>5.3</td>\n",
       "      <td>5.6</td>\n",
       "      <td>20.5</td>\n",
       "      <td>0.45</td>\n",
       "      <td>1.75</td>\n",
       "      <td>992.40</td>\n",
       "      <td>1018.05</td>\n",
       "      <td>66.5</td>\n",
       "      <td>9.0</td>\n",
       "    </tr>\n",
       "    <tr>\n",
       "      <th>1986-02-01</th>\n",
       "      <td>43.0</td>\n",
       "      <td>9.0</td>\n",
       "      <td>22.4</td>\n",
       "      <td>1.90</td>\n",
       "      <td>2.90</td>\n",
       "      <td>990.05</td>\n",
       "      <td>1015.30</td>\n",
       "      <td>63.0</td>\n",
       "      <td>10.6</td>\n",
       "    </tr>\n",
       "    <tr>\n",
       "      <th>1986-03-01</th>\n",
       "      <td>22.6</td>\n",
       "      <td>13.9</td>\n",
       "      <td>27.1</td>\n",
       "      <td>2.40</td>\n",
       "      <td>3.30</td>\n",
       "      <td>986.35</td>\n",
       "      <td>1011.00</td>\n",
       "      <td>55.5</td>\n",
       "      <td>13.1</td>\n",
       "    </tr>\n",
       "    <tr>\n",
       "      <th>1986-04-01</th>\n",
       "      <td>14.8</td>\n",
       "      <td>18.9</td>\n",
       "      <td>34.0</td>\n",
       "      <td>3.25</td>\n",
       "      <td>2.80</td>\n",
       "      <td>981.80</td>\n",
       "      <td>1005.85</td>\n",
       "      <td>39.0</td>\n",
       "      <td>13.8</td>\n",
       "    </tr>\n",
       "    <tr>\n",
       "      <th>1986-05-01</th>\n",
       "      <td>20.5</td>\n",
       "      <td>22.0</td>\n",
       "      <td>37.3</td>\n",
       "      <td>2.80</td>\n",
       "      <td>2.35</td>\n",
       "      <td>978.25</td>\n",
       "      <td>1001.95</td>\n",
       "      <td>38.0</td>\n",
       "      <td>16.0</td>\n",
       "    </tr>\n",
       "  </tbody>\n",
       "</table>\n",
       "</div>"
      ],
      "text/plain": [
       "            monthlyTotalRain  meanMinTemp  meanMaxTemp  windSpeed  cloud  \\\n",
       "date                                                                       \n",
       "1986-01-01               5.3          5.6         20.5       0.45   1.75   \n",
       "1986-02-01              43.0          9.0         22.4       1.90   2.90   \n",
       "1986-03-01              22.6         13.9         27.1       2.40   3.30   \n",
       "1986-04-01              14.8         18.9         34.0       3.25   2.80   \n",
       "1986-05-01              20.5         22.0         37.3       2.80   2.35   \n",
       "\n",
       "            atmPressureStation  atmPressureSea  humidity  vapourPressure  \n",
       "date                                                                      \n",
       "1986-01-01              992.40         1018.05      66.5             9.0  \n",
       "1986-02-01              990.05         1015.30      63.0            10.6  \n",
       "1986-03-01              986.35         1011.00      55.5            13.1  \n",
       "1986-04-01              981.80         1005.85      39.0            13.8  \n",
       "1986-05-01              978.25         1001.95      38.0            16.0  "
      ]
     },
     "execution_count": 45,
     "metadata": {},
     "output_type": "execute_result"
    }
   ],
   "source": [
    "dat.head()"
   ]
  },
  {
   "cell_type": "code",
   "execution_count": 46,
   "metadata": {
    "collapsed": false
   },
   "outputs": [
    {
     "data": {
      "text/html": [
       "<div>\n",
       "<table border=\"1\" class=\"dataframe\">\n",
       "  <thead>\n",
       "    <tr style=\"text-align: right;\">\n",
       "      <th></th>\n",
       "      <th>monthlyTotalRain</th>\n",
       "      <th>meanMinTemp</th>\n",
       "      <th>meanMaxTemp</th>\n",
       "      <th>windSpeed</th>\n",
       "      <th>cloud</th>\n",
       "      <th>atmPressureStation</th>\n",
       "      <th>atmPressureSea</th>\n",
       "      <th>humidity</th>\n",
       "      <th>vapourPressure</th>\n",
       "    </tr>\n",
       "  </thead>\n",
       "  <tbody>\n",
       "    <tr>\n",
       "      <th>count</th>\n",
       "      <td>360.000000</td>\n",
       "      <td>360.000000</td>\n",
       "      <td>360.000000</td>\n",
       "      <td>360.000000</td>\n",
       "      <td>360.000000</td>\n",
       "      <td>360.000000</td>\n",
       "      <td>360.000000</td>\n",
       "      <td>360.000000</td>\n",
       "      <td>360.000000</td>\n",
       "    </tr>\n",
       "    <tr>\n",
       "      <th>mean</th>\n",
       "      <td>58.340762</td>\n",
       "      <td>19.015556</td>\n",
       "      <td>30.597222</td>\n",
       "      <td>1.819499</td>\n",
       "      <td>2.404861</td>\n",
       "      <td>983.164306</td>\n",
       "      <td>1007.429167</td>\n",
       "      <td>57.576389</td>\n",
       "      <td>18.685972</td>\n",
       "    </tr>\n",
       "    <tr>\n",
       "      <th>std</th>\n",
       "      <td>82.475687</td>\n",
       "      <td>7.360190</td>\n",
       "      <td>6.810004</td>\n",
       "      <td>0.988152</td>\n",
       "      <td>1.214512</td>\n",
       "      <td>6.780599</td>\n",
       "      <td>7.550799</td>\n",
       "      <td>13.244976</td>\n",
       "      <td>7.694602</td>\n",
       "    </tr>\n",
       "    <tr>\n",
       "      <th>min</th>\n",
       "      <td>0.000000</td>\n",
       "      <td>5.600000</td>\n",
       "      <td>15.200000</td>\n",
       "      <td>0.000000</td>\n",
       "      <td>0.000000</td>\n",
       "      <td>971.200000</td>\n",
       "      <td>994.300000</td>\n",
       "      <td>26.500000</td>\n",
       "      <td>8.400000</td>\n",
       "    </tr>\n",
       "    <tr>\n",
       "      <th>25%</th>\n",
       "      <td>7.000000</td>\n",
       "      <td>12.075000</td>\n",
       "      <td>25.050000</td>\n",
       "      <td>1.000000</td>\n",
       "      <td>1.450000</td>\n",
       "      <td>976.300000</td>\n",
       "      <td>999.800000</td>\n",
       "      <td>48.875000</td>\n",
       "      <td>12.225000</td>\n",
       "    </tr>\n",
       "    <tr>\n",
       "      <th>50%</th>\n",
       "      <td>28.400000</td>\n",
       "      <td>20.150000</td>\n",
       "      <td>32.900000</td>\n",
       "      <td>1.900000</td>\n",
       "      <td>2.375000</td>\n",
       "      <td>984.200000</td>\n",
       "      <td>1008.450000</td>\n",
       "      <td>61.000000</td>\n",
       "      <td>15.800000</td>\n",
       "    </tr>\n",
       "    <tr>\n",
       "      <th>75%</th>\n",
       "      <td>64.900000</td>\n",
       "      <td>26.125000</td>\n",
       "      <td>35.500000</td>\n",
       "      <td>2.512500</td>\n",
       "      <td>3.150000</td>\n",
       "      <td>989.262500</td>\n",
       "      <td>1014.312500</td>\n",
       "      <td>67.500000</td>\n",
       "      <td>25.525000</td>\n",
       "    </tr>\n",
       "    <tr>\n",
       "      <th>max</th>\n",
       "      <td>640.000000</td>\n",
       "      <td>29.200000</td>\n",
       "      <td>43.100000</td>\n",
       "      <td>4.050000</td>\n",
       "      <td>5.900000</td>\n",
       "      <td>993.900000</td>\n",
       "      <td>1019.450000</td>\n",
       "      <td>81.500000</td>\n",
       "      <td>34.150000</td>\n",
       "    </tr>\n",
       "  </tbody>\n",
       "</table>\n",
       "</div>"
      ],
      "text/plain": [
       "       monthlyTotalRain  meanMinTemp  meanMaxTemp   windSpeed       cloud  \\\n",
       "count        360.000000   360.000000   360.000000  360.000000  360.000000   \n",
       "mean          58.340762    19.015556    30.597222    1.819499    2.404861   \n",
       "std           82.475687     7.360190     6.810004    0.988152    1.214512   \n",
       "min            0.000000     5.600000    15.200000    0.000000    0.000000   \n",
       "25%            7.000000    12.075000    25.050000    1.000000    1.450000   \n",
       "50%           28.400000    20.150000    32.900000    1.900000    2.375000   \n",
       "75%           64.900000    26.125000    35.500000    2.512500    3.150000   \n",
       "max          640.000000    29.200000    43.100000    4.050000    5.900000   \n",
       "\n",
       "       atmPressureStation  atmPressureSea    humidity  vapourPressure  \n",
       "count          360.000000      360.000000  360.000000      360.000000  \n",
       "mean           983.164306     1007.429167   57.576389       18.685972  \n",
       "std              6.780599        7.550799   13.244976        7.694602  \n",
       "min            971.200000      994.300000   26.500000        8.400000  \n",
       "25%            976.300000      999.800000   48.875000       12.225000  \n",
       "50%            984.200000     1008.450000   61.000000       15.800000  \n",
       "75%            989.262500     1014.312500   67.500000       25.525000  \n",
       "max            993.900000     1019.450000   81.500000       34.150000  "
      ]
     },
     "execution_count": 46,
     "metadata": {},
     "output_type": "execute_result"
    }
   ],
   "source": [
    "dat.describe()"
   ]
  },
  {
   "cell_type": "code",
   "execution_count": 110,
   "metadata": {
    "collapsed": true
   },
   "outputs": [],
   "source": [
    "def out(col,df=dat):\n",
    "    plt.subplot(2,2,1)\n",
    "    sns.swarmplot(y=col,data=df)\n",
    "    plt.subplot(2,2,2)\n",
    "    sns.boxplot(y=col,data=df)\n",
    "    plt.subplot(2,2,3)\n",
    "    sns.violinplot(y='monthlyTotalRain',data=dat)\n",
    "    plt.subplot(2,2,4)\n",
    "    sns.violinplot(y='monthlyTotalRain',data=dat,inner=None,color='lightgray')\n",
    "    sns.stripplot(y='monthlyTotalRain',data=dat,jitter=True,size=4)\n",
    "    plt.tight_layout()\n",
    "    plt.show()"
   ]
  },
  {
   "cell_type": "code",
   "execution_count": 111,
   "metadata": {
    "collapsed": false
   },
   "outputs": [
    {
     "data": {
      "image/png": "[encoded data removed]",
      "text/plain": [
       "<matplotlib.figure.Figure at 0x226fb9e8>"
      ]
     },
     "metadata": {},
     "output_type": "display_data"
    },
    {
     "data": {
      "image/png": "[encoded data removed]",
      "text/plain": [
       "<matplotlib.figure.Figure at 0x2243a710>"
      ]
     },
     "metadata": {},
     "output_type": "display_data"
    },
    {
     "data": {
      "image/png": "[encoded data removed]",
      "text/plain": [
       "<matplotlib.figure.Figure at 0x227e0588>"
      ]
     },
     "metadata": {},
     "output_type": "display_data"
    },
    {
     "data": {
      "image/png": "[encoded data removed]",
      "text/plain": [
       "<matplotlib.figure.Figure at 0x227dd908>"
      ]
     },
     "metadata": {},
     "output_type": "display_data"
    },
    {
     "data": {
      "image/png": "[encoded data removed]",
      "text/plain": [
       "<matplotlib.figure.Figure at 0x2209fc88>"
      ]
     },
     "metadata": {},
     "output_type": "display_data"
    },
    {
     "data": {
      "image/png": "[encoded data removed]",
      "text/plain": [
       "<matplotlib.figure.Figure at 0x2162cb00>"
      ]
     },
     "metadata": {},
     "output_type": "display_data"
    },
    {
     "data": {
      "image/png": "[encoded data removed]",
      "text/plain": [
       "<matplotlib.figure.Figure at 0x21fa9240>"
      ]
     },
     "metadata": {},
     "output_type": "display_data"
    },
    {
     "data": {
      "image/png": "[encoded data removed]",
      "text/plain": [
       "<matplotlib.figure.Figure at 0x1fb03400>"
      ]
     },
     "metadata": {},
     "output_type": "display_data"
    },
    {
     "data": {
      "image/png": "[encoded data removed]",
      "text/plain": [
       "<matplotlib.figure.Figure at 0x223f1048>"
      ]
     },
     "metadata": {},
     "output_type": "display_data"
    },
    {
     "data": {
      "text/plain": [
       "monthlyTotalRain      None\n",
       "meanMinTemp           None\n",
       "meanMaxTemp           None\n",
       "windSpeed             None\n",
       "cloud                 None\n",
       "atmPressureStation    None\n",
       "atmPressureSea        None\n",
       "humidity              None\n",
       "vapourPressure        None\n",
       "dtype: object"
      ]
     },
     "execution_count": 111,
     "metadata": {},
     "output_type": "execute_result"
    }
   ],
   "source": [
    "dat.apply(outlier)"
   ]
  },
  {
   "cell_type": "code",
   "execution_count": null,
   "metadata": {
    "collapsed": false
   },
   "outputs": [],
   "source": [
    "dat.monthlyTotalRain.median()"
   ]
  },
  {
   "cell_type": "code",
   "execution_count": null,
   "metadata": {
    "collapsed": false
   },
   "outputs": [],
   "source": [
    "dat.monthlyTotalRain.describe()"
   ]
  },
  {
   "cell_type": "code",
   "execution_count": null,
   "metadata": {
    "collapsed": false
   },
   "outputs": [],
   "source": [
    "dat.plot(y='monthlyTotalRain')\n",
    "plt.show()"
   ]
  },
  {
   "cell_type": "code",
   "execution_count": null,
   "metadata": {
    "collapsed": true
   },
   "outputs": [],
   "source": [
    "dat"
   ]
  },
  {
   "cell_type": "markdown",
   "metadata": {},
   "source": [
    "We are taking the copy of this dataframe to get simple visulizations first then we will change them to time series visulizations."
   ]
  },
  {
   "cell_type": "code",
   "execution_count": null,
   "metadata": {
    "collapsed": true
   },
   "outputs": [],
   "source": [
    "df=dat.copy(deep=True)"
   ]
  },
  {
   "cell_type": "code",
   "execution_count": null,
   "metadata": {
    "collapsed": false
   },
   "outputs": [],
   "source": [
    "df.shape"
   ]
  },
  {
   "cell_type": "code",
   "execution_count": null,
   "metadata": {
    "collapsed": true
   },
   "outputs": [],
   "source": [
    "def df_subSet(df,List):\n",
    "    Df=df.reset_index()\n",
    "    Df['date']=Df.date.dt.year\n",
    "    Df = Df[Df.date.isin(List)]\n",
    "    return Df"
   ]
  },
  {
   "cell_type": "code",
   "execution_count": null,
   "metadata": {
    "collapsed": false
   },
   "outputs": [],
   "source": [
    "#sub_df=df_subSet(df,List=[1986,1990,2000,2010,2015])"
   ]
  },
  {
   "cell_type": "code",
   "execution_count": null,
   "metadata": {
    "collapsed": false
   },
   "outputs": [],
   "source": [
    "df.head()"
   ]
  },
  {
   "cell_type": "code",
   "execution_count": null,
   "metadata": {
    "collapsed": false
   },
   "outputs": [],
   "source": [
    "df.reset_index()"
   ]
  },
  {
   "cell_type": "code",
   "execution_count": null,
   "metadata": {
    "collapsed": true
   },
   "outputs": [],
   "source": [
    "sns.lmplt()"
   ]
  }
 ],
 "metadata": {
  "kernelspec": {
   "display_name": "Python 2",
   "language": "python",
   "name": "python2"
  },
  "language_info": {
   "codemirror_mode": {
    "name": "ipython",
    "version": 2
   },
   "file_extension": ".py",
   "mimetype": "text/x-python",
   "name": "python",
   "nbconvert_exporter": "python",
   "pygments_lexer": "ipython2",
   "version": "2.7.13"
  }
 },
 "nbformat": 4,
 "nbformat_minor": 2
}
